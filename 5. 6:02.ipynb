{
  "nbformat": 4,
  "nbformat_minor": 0,
  "metadata": {
    "colab": {
      "name": "6:02.ipynb",
      "provenance": [],
      "collapsed_sections": [],
      "include_colab_link": true
    },
    "kernelspec": {
      "name": "python3",
      "display_name": "Python 3"
    },
    "language_info": {
      "name": "python"
    },
    "accelerator": "GPU"
  },
  "cells": [
    {
      "cell_type": "markdown",
      "metadata": {
        "id": "view-in-github",
        "colab_type": "text"
      },
      "source": [
        "<a href=\"https://colab.research.google.com/github/pseudope/Parrot_5th_Level1/blob/main/6_02.ipynb\" target=\"_parent\"><img src=\"https://colab.research.google.com/assets/colab-badge.svg\" alt=\"Open In Colab\"/></a>"
      ]
    },
    {
      "cell_type": "code",
      "metadata": {
        "colab": {
          "base_uri": "https://localhost:8080/"
        },
        "id": "qWz40uYohBIN",
        "outputId": "8af2368d-c089-48ee-e261-7a03d8a3a2d4"
      },
      "source": [
        "#!/usr/bin/env python3\n",
        "!pip install einops\n",
        "#!pip install tensorflow --user\n",
        "\n",
        "import numpy as np\n",
        "import pandas as pd\n",
        "import tensorflow as tf\n",
        "import matplotlib.pyplot as plt\n",
        "\n",
        "from tensorflow.data import Dataset\n",
        "from tensorflow.keras.models import Model\n",
        "from tensorflow.keras.utils import to_categorical\n",
        "from tensorflow.keras.optimizers import Adam, RMSprop\n",
        "from tensorflow.keras.layers import Input, Dense, Conv2D, Dropout, Flatten, Activation, MaxPooling2D, BatchNormalization\n",
        "\n",
        "from einops import rearrange\n",
        "from sklearn.model_selection import train_test_split"
      ],
      "execution_count": 1,
      "outputs": [
        {
          "output_type": "stream",
          "name": "stdout",
          "text": [
            "Collecting einops\n",
            "  Downloading einops-0.3.2-py3-none-any.whl (25 kB)\n",
            "Installing collected packages: einops\n",
            "Successfully installed einops-0.3.2\n"
          ]
        }
      ]
    },
    {
      "cell_type": "code",
      "metadata": {
        "colab": {
          "base_uri": "https://localhost:8080/"
        },
        "id": "S3WNN5P4hBIO",
        "outputId": "d2df2b72-b407-46b9-b13f-2fd76d5df17c"
      },
      "source": [
        "(X_train, y_train), (X_test, y_test) = tf.keras.datasets.mnist.load_data()\n",
        "\n",
        "print(\"X_train shape: {}\".format(X_train.shape))\n",
        "print(\"X_test shape: {}\".format(X_test.shape))"
      ],
      "execution_count": 2,
      "outputs": [
        {
          "output_type": "stream",
          "name": "stdout",
          "text": [
            "Downloading data from https://storage.googleapis.com/tensorflow/tf-keras-datasets/mnist.npz\n",
            "11493376/11490434 [==============================] - 0s 0us/step\n",
            "11501568/11490434 [==============================] - 0s 0us/step\n",
            "X_train shape: (60000, 28, 28)\n",
            "X_test shape: (10000, 28, 28)\n"
          ]
        }
      ]
    },
    {
      "cell_type": "code",
      "metadata": {
        "colab": {
          "base_uri": "https://localhost:8080/",
          "height": 657
        },
        "id": "KB832lechBIP",
        "outputId": "feebed32-13eb-43ad-b7c0-952c40db4e73"
      },
      "source": [
        "fig = plt.figure(figsize=(9, 9))\n",
        "\n",
        "for i in range(9):\n",
        "    plt.subplot(3, 3, 1 + i)\n",
        "    plt.tight_layout()\n",
        "    plt.imshow(X_train[i], cmap=\"gray\", interpolation=\"none\")\n",
        "    target = y_train[i]\n",
        "    plt.title(\"Ground Truth: {}\".format(int(target)))\n",
        "\n",
        "plt.show()"
      ],
      "execution_count": 3,
      "outputs": [
        {
          "output_type": "display_data",
          "data": {
            "image/png": "[encoded data removed]",
            "text/plain": [
              "<Figure size 648x648 with 9 Axes>"
            ]
          },
          "metadata": {
            "needs_background": "light"
          }
        }
      ]
    },
    {
      "cell_type": "code",
      "metadata": {
        "id": "Nq1waxKDhBIP"
      },
      "source": [
        "target_size = 10   # 0 ~ 9, 총 9개\n",
        "\n",
        "### 주의: 흑백 데이터여도 channel 차원을 살려주어야 정상적으로 작동합니다\n",
        "X_train = rearrange(X_train, \"b h w -> b h w 1\")\n",
        "X_test = rearrange(X_test, \"b h w -> b h w 1\")\n",
        "\n",
        "X_train = X_train.astype(\"float32\") / (2 ** 8 - 1)   # 255로 scaling\n",
        "X_test = X_test.astype(\"float32\") / (2 ** 8 - 1)     # 255로 scaling\n",
        "\n",
        "y_train = to_categorical(y_train, target_size)       # 타겟을 정수로 변환\n",
        "y_test = to_categorical(y_test, target_size)         # 타겟을 정수로 변환"
      ],
      "execution_count": 4,
      "outputs": []
    },
    {
      "cell_type": "code",
      "metadata": {
        "id": "7xA3xa64hBIP"
      },
      "source": [
        "X_train, X_val, y_train, y_val = train_test_split(X_train, y_train, test_size=0.2)"
      ],
      "execution_count": 5,
      "outputs": []
    },
    {
      "cell_type": "code",
      "metadata": {
        "colab": {
          "base_uri": "https://localhost:8080/"
        },
        "id": "SyT8hqophBIQ",
        "outputId": "4fc5f7ed-890a-463f-e912-1c478a717652"
      },
      "source": [
        "print(X_train.shape)\n",
        "print(X_val.shape)\n",
        "print(X_test.shape)\n",
        "print(y_train.shape)\n",
        "print(y_val.shape)\n",
        "print(y_test.shape)"
      ],
      "execution_count": 6,
      "outputs": [
        {
          "output_type": "stream",
          "name": "stdout",
          "text": [
            "(48000, 28, 28, 1)\n",
            "(12000, 28, 28, 1)\n",
            "(10000, 28, 28, 1)\n",
            "(48000, 10)\n",
            "(12000, 10)\n",
            "(10000, 10)\n"
          ]
        }
      ]
    },
    {
      "cell_type": "code",
      "metadata": {
        "colab": {
          "base_uri": "https://localhost:8080/"
        },
        "id": "haTxYAXahBIQ",
        "outputId": "483ea22f-de04-405c-bfe9-a49dbea03171"
      },
      "source": [
        "inputs = Input(shape=(28, 28, 1))\n",
        "\n",
        "X = Conv2D(filters=512, kernel_size=(3, 3), padding=\"Same\")(inputs)\n",
        "X = BatchNormalization()(X)\n",
        "X = Activation(\"relu\")(X)\n",
        "X = Conv2D(filters=128, kernel_size=(1, 1), padding=\"Same\", activation=\"relu\")(X)\n",
        "#X = Dropout(0.5)(X)\n",
        "X = MaxPooling2D(pool_size=(2, 2), strides=(2, 2))(X)\n",
        "\n",
        "#X = Conv2D(filters=256, kernel_size=(5, 5), padding=\"Same\")(X)\n",
        "#X = BatchNormalization()(X)\n",
        "#X = Activation(\"relu\")(X)\n",
        "#X = Conv2D(filters=128, kernel_size=(5, 5), padding=\"Same\", activation=\"relu\")(X)\n",
        "#X = Dropout(0.5)(X)\n",
        "#X = MaxPooling2D(pool_size=(2, 2), strides=(2, 2))(X)\n",
        "\n",
        "#X = Conv2D(filters=128, kernel_size=(3, 3), padding=\"Same\")(X)\n",
        "#X = BatchNormalization()(X)\n",
        "#X = Activation(\"relu\")(X)\n",
        "#X = Conv2D(filters=64, kernel_size=(1, 1), padding=\"Same\", activation=\"relu\")(X)\n",
        "#X = Dropout(0.3)(X)\n",
        "#X = MaxPooling2D(pool_size=(2, 2), strides=(2, 2))(X)\n",
        "\n",
        "X = Flatten()(X)\n",
        "X = Dense(1024, activation=\"relu\")(X)\n",
        "X = BatchNormalization()(X)\n",
        "X = Dropout(0.5)(X)\n",
        "X = Dense(512, activation=\"relu\")(X)\n",
        "X = BatchNormalization()(X)\n",
        "X = Dropout(0.4)(X)\n",
        "X = Dense(256, activation=\"relu\")(X)\n",
        "X = BatchNormalization()(X)\n",
        "X = Dropout(0.2)(X)\n",
        "outputs = Dense(10, activation=\"softmax\")(X)\n",
        "\n",
        "model = Model(inputs=inputs, outputs=outputs)\n",
        "model.summary()"
      ],
      "execution_count": 7,
      "outputs": [
        {
          "output_type": "stream",
          "name": "stdout",
          "text": [
            "Model: \"model\"\n",
            "_________________________________________________________________\n",
            "Layer (type)                 Output Shape              Param #   \n",
            "=================================================================\n",
            "input_1 (InputLayer)         [(None, 28, 28, 1)]       0         \n",
            "_________________________________________________________________\n",
            "conv2d (Conv2D)              (None, 28, 28, 512)       5120      \n",
            "_________________________________________________________________\n",
            "batch_normalization (BatchNo (None, 28, 28, 512)       2048      \n",
            "_________________________________________________________________\n",
            "activation (Activation)      (None, 28, 28, 512)       0         \n",
            "_________________________________________________________________\n",
            "conv2d_1 (Conv2D)            (None, 28, 28, 128)       65664     \n",
            "_________________________________________________________________\n",
            "max_pooling2d (MaxPooling2D) (None, 14, 14, 128)       0         \n",
            "_________________________________________________________________\n",
            "flatten (Flatten)            (None, 25088)             0         \n",
            "_________________________________________________________________\n",
            "dense (Dense)                (None, 1024)              25691136  \n",
            "_________________________________________________________________\n",
            "batch_normalization_1 (Batch (None, 1024)              4096      \n",
            "_________________________________________________________________\n",
            "dropout (Dropout)            (None, 1024)              0         \n",
            "_________________________________________________________________\n",
            "dense_1 (Dense)              (None, 512)               524800    \n",
            "_________________________________________________________________\n",
            "batch_normalization_2 (Batch (None, 512)               2048      \n",
            "_________________________________________________________________\n",
            "dropout_1 (Dropout)          (None, 512)               0         \n",
            "_________________________________________________________________\n",
            "dense_2 (Dense)              (None, 256)               131328    \n",
            "_________________________________________________________________\n",
            "batch_normalization_3 (Batch (None, 256)               1024      \n",
            "_________________________________________________________________\n",
            "dropout_2 (Dropout)          (None, 256)               0         \n",
            "_________________________________________________________________\n",
            "dense_3 (Dense)              (None, 10)                2570      \n",
            "=================================================================\n",
            "Total params: 26,429,834\n",
            "Trainable params: 26,425,226\n",
            "Non-trainable params: 4,608\n",
            "_________________________________________________________________\n"
          ]
        }
      ]
    },
    {
      "cell_type": "code",
      "metadata": {
        "colab": {
          "base_uri": "https://localhost:8080/"
        },
        "id": "MqkQ72d1hBIS",
        "outputId": "0d472bea-ef64-4e14-f823-1cfa631d6fd6"
      },
      "source": [
        "def scheduler(epoch, lr):\n",
        "  if epoch < 8:\n",
        "    return lr\n",
        "  else:\n",
        "    return lr * tf.math.exp(-0.1)\n",
        "\n",
        "callback = [\n",
        "            tf.keras.callbacks.LearningRateScheduler(scheduler),\n",
        "            tf.keras.callbacks.EarlyStopping(monitor='val_loss', patience=3)\n",
        "]\n",
        "\n",
        "model.compile(optimizer='adam', loss=\"categorical_crossentropy\", metrics=[\"accuracy\"])\n",
        "history = model.fit(X_train, y_train, batch_size=256, epochs=15, callbacks = callback, validation_data=(X_val, y_val), verbose=1)"
      ],
      "execution_count": 8,
      "outputs": [
        {
          "output_type": "stream",
          "name": "stdout",
          "text": [
            "Epoch 1/15\n",
            "188/188 [==============================] - 68s 194ms/step - loss: 0.1958 - accuracy: 0.9400 - val_loss: 31.6643 - val_accuracy: 0.1104\n",
            "Epoch 2/15\n",
            "188/188 [==============================] - 36s 190ms/step - loss: 0.0680 - accuracy: 0.9788 - val_loss: 23.2893 - val_accuracy: 0.1104\n",
            "Epoch 3/15\n",
            "188/188 [==============================] - 36s 190ms/step - loss: 0.0490 - accuracy: 0.9844 - val_loss: 4.7790 - val_accuracy: 0.3280\n",
            "Epoch 4/15\n",
            "188/188 [==============================] - 36s 190ms/step - loss: 0.0393 - accuracy: 0.9869 - val_loss: 0.2356 - val_accuracy: 0.9305\n",
            "Epoch 5/15\n",
            "188/188 [==============================] - 36s 190ms/step - loss: 0.0340 - accuracy: 0.9890 - val_loss: 0.0663 - val_accuracy: 0.9837\n",
            "Epoch 6/15\n",
            "188/188 [==============================] - 36s 190ms/step - loss: 0.0275 - accuracy: 0.9910 - val_loss: 0.0669 - val_accuracy: 0.9827\n",
            "Epoch 7/15\n",
            "188/188 [==============================] - 36s 190ms/step - loss: 0.0219 - accuracy: 0.9928 - val_loss: 0.0886 - val_accuracy: 0.9793\n",
            "Epoch 8/15\n",
            "188/188 [==============================] - 36s 189ms/step - loss: 0.0182 - accuracy: 0.9941 - val_loss: 0.0630 - val_accuracy: 0.9845\n",
            "Epoch 9/15\n",
            "188/188 [==============================] - 36s 190ms/step - loss: 0.0161 - accuracy: 0.9947 - val_loss: 0.0679 - val_accuracy: 0.9834\n",
            "Epoch 10/15\n",
            "188/188 [==============================] - 36s 189ms/step - loss: 0.0121 - accuracy: 0.9959 - val_loss: 0.0531 - val_accuracy: 0.9877\n",
            "Epoch 11/15\n",
            "188/188 [==============================] - 36s 190ms/step - loss: 0.0083 - accuracy: 0.9972 - val_loss: 0.0580 - val_accuracy: 0.9862\n",
            "Epoch 12/15\n",
            "188/188 [==============================] - 36s 189ms/step - loss: 0.0078 - accuracy: 0.9975 - val_loss: 0.0542 - val_accuracy: 0.9864\n",
            "Epoch 13/15\n",
            "188/188 [==============================] - 36s 189ms/step - loss: 0.0051 - accuracy: 0.9983 - val_loss: 0.0565 - val_accuracy: 0.9875\n"
          ]
        }
      ]
    },
    {
      "cell_type": "code",
      "metadata": {
        "id": "yPRsfabXhBIS",
        "colab": {
          "base_uri": "https://localhost:8080/"
        },
        "outputId": "b789a95a-5a8d-43b8-c4e6-920f74292b7a"
      },
      "source": [
        "model.evaluate(X_test, y_test, batch_size=256)"
      ],
      "execution_count": 10,
      "outputs": [
        {
          "output_type": "stream",
          "name": "stdout",
          "text": [
            "40/40 [==============================] - 3s 65ms/step - loss: 0.0482 - accuracy: 0.9872\n"
          ]
        },
        {
          "output_type": "execute_result",
          "data": {
            "text/plain": [
              "[0.04818147420883179, 0.9872000217437744]"
            ]
          },
          "metadata": {},
          "execution_count": 10
        }
      ]
    },
    {
      "cell_type": "code",
      "metadata": {
        "id": "mZ49DBA3hBIT"
      },
      "source": [
        "def acc_loss_plot(hist):\n",
        "    \n",
        "    fit, loss_ax = plt.subplots()\n",
        "    acc_ax = loss_ax.twinx()\n",
        "    \n",
        "    loss_ax.plot(hist.history[\"loss\"], \"y\", label=\"train_loss\")\n",
        "    loss_ax.plot(hist.history[\"val_loss\"], \"r\", label=\"val_loss\")\n",
        "    loss_ax.set_xlabel(\"Epoch\")\n",
        "    loss_ax.set_ylabel(\"Loss\")\n",
        "    loss_ax.legend(loc = \"upper left\")\n",
        "    \n",
        "    acc_ax.plot(hist.history[\"accuracy\"], \"b\", label=\"train_acc\")\n",
        "    acc_ax.plot(hist.history[\"val_accuracy\"], \"g\", label=\"val_acc\")\n",
        "    acc_ax.set_ylabel(\"Accuracy\")\n",
        "    acc_ax.legend(loc = \"upper right\")\n",
        "    \n",
        "    plt.show()"
      ],
      "execution_count": 11,
      "outputs": []
    },
    {
      "cell_type": "code",
      "metadata": {
        "id": "qVs8gpOZhBIT",
        "colab": {
          "base_uri": "https://localhost:8080/",
          "height": 279
        },
        "outputId": "515715de-efe0-4484-fbe3-0a9c4b212818"
      },
      "source": [
        "acc_loss_plot(history)"
      ],
      "execution_count": 12,
      "outputs": [
        {
          "output_type": "display_data",
          "data": {
            "image/png": "[encoded data removed]",
            "text/plain": [
              "<Figure size 432x288 with 2 Axes>"
            ]
          },
          "metadata": {
            "needs_background": "light"
          }
        }
      ]
    },
    {
      "cell_type": "code",
      "metadata": {
        "id": "kFD0TsyM9t24"
      },
      "source": [
        ""
      ],
      "execution_count": null,
      "outputs": []
    }
  ]
}
