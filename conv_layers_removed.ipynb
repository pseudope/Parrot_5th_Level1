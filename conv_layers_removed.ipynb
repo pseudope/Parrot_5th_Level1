{
  "nbformat": 4,
  "nbformat_minor": 0,
  "metadata": {
    "colab": {
      "name": "conv_layers_removed.ipynb",
      "provenance": [],
      "collapsed_sections": [],
      "include_colab_link": true
    },
    "kernelspec": {
      "name": "python3",
      "display_name": "Python 3"
    },
    "language_info": {
      "name": "python"
    },
    "accelerator": "GPU"
  },
  "cells": [
    {
      "cell_type": "markdown",
      "metadata": {
        "id": "view-in-github",
        "colab_type": "text"
      },
      "source": [
        "<a href=\"https://colab.research.google.com/github/pseudope/Parrot_5th_Level1/blob/main/conv_layers_removed.ipynb\" target=\"_parent\"><img src=\"https://colab.research.google.com/assets/colab-badge.svg\" alt=\"Open In Colab\"/></a>"
      ]
    },
    {
      "cell_type": "code",
      "metadata": {
        "colab": {
          "base_uri": "https://localhost:8080/"
        },
        "id": "qWz40uYohBIN",
        "outputId": "ebe2c1f6-cd23-4f5b-c7d7-7f82fe17ba25"
      },
      "source": [
        "#!/usr/bin/env python3\n",
        "!pip install einops\n",
        "#!pip install tensorflow --user\n",
        "\n",
        "import numpy as np\n",
        "import pandas as pd\n",
        "import tensorflow as tf\n",
        "import matplotlib.pyplot as plt\n",
        "\n",
        "from tensorflow.data import Dataset\n",
        "from tensorflow.keras.models import Model\n",
        "from tensorflow.keras.utils import to_categorical\n",
        "from tensorflow.keras.optimizers import Adam, RMSprop\n",
        "from tensorflow.keras.layers import Input, Dense, Conv2D, Dropout, Flatten, Activation, MaxPooling2D, BatchNormalization\n",
        "\n",
        "from einops import rearrange\n",
        "from sklearn.model_selection import train_test_split"
      ],
      "execution_count": null,
      "outputs": [
        {
          "output_type": "stream",
          "name": "stdout",
          "text": [
            "Collecting einops\n",
            "  Downloading einops-0.3.2-py3-none-any.whl (25 kB)\n",
            "Installing collected packages: einops\n",
            "Successfully installed einops-0.3.2\n"
          ]
        }
      ]
    },
    {
      "cell_type": "code",
      "metadata": {
        "colab": {
          "base_uri": "https://localhost:8080/"
        },
        "id": "S3WNN5P4hBIO",
        "outputId": "64f990ac-2a72-415b-f898-eb7628a6a08c"
      },
      "source": [
        "(X_train, y_train), (X_test, y_test) = tf.keras.datasets.mnist.load_data()\n",
        "\n",
        "print(\"X_train shape: {}\".format(X_train.shape))\n",
        "print(\"X_test shape: {}\".format(X_test.shape))"
      ],
      "execution_count": null,
      "outputs": [
        {
          "output_type": "stream",
          "name": "stdout",
          "text": [
            "Downloading data from https://storage.googleapis.com/tensorflow/tf-keras-datasets/mnist.npz\n",
            "11493376/11490434 [==============================] - 0s 0us/step\n",
            "11501568/11490434 [==============================] - 0s 0us/step\n",
            "X_train shape: (60000, 28, 28)\n",
            "X_test shape: (10000, 28, 28)\n"
          ]
        }
      ]
    },
    {
      "cell_type": "code",
      "metadata": {
        "colab": {
          "base_uri": "https://localhost:8080/",
          "height": 657
        },
        "id": "KB832lechBIP",
        "outputId": "7f8621fc-62c8-4707-bb75-a65795d5dc71"
      },
      "source": [
        "fig = plt.figure(figsize=(9, 9))\n",
        "\n",
        "for i in range(9):\n",
        "    plt.subplot(3, 3, 1 + i)\n",
        "    plt.tight_layout()\n",
        "    plt.imshow(X_train[i], cmap=\"gray\", interpolation=\"none\")\n",
        "    target = y_train[i]\n",
        "    plt.title(\"Ground Truth: {}\".format(int(target)))\n",
        "\n",
        "plt.show()"
      ],
      "execution_count": null,
      "outputs": [
        {
          "output_type": "display_data",
          "data": {
            "image/png": "[encoded data removed]",
            "text/plain": [
              "<Figure size 648x648 with 9 Axes>"
            ]
          },
          "metadata": {
            "needs_background": "light"
          }
        }
      ]
    },
    {
      "cell_type": "code",
      "metadata": {
        "id": "Nq1waxKDhBIP"
      },
      "source": [
        "target_size = 10   # 0 ~ 9, 총 9개\n",
        "\n",
        "### 주의: 흑백 데이터여도 channel 차원을 살려주어야 정상적으로 작동합니다\n",
        "X_train = rearrange(X_train, \"b h w -> b h w 1\")\n",
        "X_test = rearrange(X_test, \"b h w -> b h w 1\")\n",
        "\n",
        "X_train = X_train.astype(\"float32\") / (2 ** 8 - 1)   # 255로 scaling\n",
        "X_test = X_test.astype(\"float32\") / (2 ** 8 - 1)     # 255로 scaling\n",
        "\n",
        "y_train = to_categorical(y_train, target_size)       # 타겟을 정수로 변환\n",
        "y_test = to_categorical(y_test, target_size)         # 타겟을 정수로 변환"
      ],
      "execution_count": null,
      "outputs": []
    },
    {
      "cell_type": "code",
      "metadata": {
        "id": "7xA3xa64hBIP"
      },
      "source": [
        "X_train, X_val, y_train, y_val = train_test_split(X_train, y_train, test_size=0.2)"
      ],
      "execution_count": null,
      "outputs": []
    },
    {
      "cell_type": "code",
      "metadata": {
        "colab": {
          "base_uri": "https://localhost:8080/"
        },
        "id": "SyT8hqophBIQ",
        "outputId": "09fb41e7-f3ac-4ab0-ce2f-68893907e4ea"
      },
      "source": [
        "print(X_train.shape)\n",
        "print(X_val.shape)\n",
        "print(X_test.shape)\n",
        "print(y_train.shape)\n",
        "print(y_val.shape)\n",
        "print(y_test.shape)"
      ],
      "execution_count": null,
      "outputs": [
        {
          "output_type": "stream",
          "name": "stdout",
          "text": [
            "(48000, 28, 28, 1)\n",
            "(12000, 28, 28, 1)\n",
            "(10000, 28, 28, 1)\n",
            "(48000, 10)\n",
            "(12000, 10)\n",
            "(10000, 10)\n"
          ]
        }
      ]
    },
    {
      "cell_type": "code",
      "metadata": {
        "colab": {
          "base_uri": "https://localhost:8080/"
        },
        "id": "haTxYAXahBIQ",
        "outputId": "0a8fb1b5-b7b8-43ce-fd97-a449de06fc20"
      },
      "source": [
        "inputs = Input(shape=(28, 28, 1))\n",
        "\n",
        "X = Conv2D(filters=512, kernel_size=(5, 5), padding=\"Same\")(inputs)\n",
        "X = BatchNormalization()(X)\n",
        "X = Activation(\"relu\")(X)\n",
        "X = Conv2D(filters=256, kernel_size=(5, 5), padding=\"Same\", activation=\"relu\")(X)\n",
        "X = Dropout(0.5)(X)\n",
        "X = MaxPooling2D(pool_size=(2, 2), strides=(2, 2))(X)\n",
        "\n",
        "#X = Conv2D(filters=256, kernel_size=(5, 5), padding=\"Same\")(X)\n",
        "#X = BatchNormalization()(X)\n",
        "#X = Activation(\"relu\")(X)\n",
        "#X = Conv2D(filters=128, kernel_size=(5, 5), padding=\"Same\", activation=\"relu\")(X)\n",
        "#X = Dropout(0.5)(X)\n",
        "#X = MaxPooling2D(pool_size=(2, 2), strides=(2, 2))(X)\n",
        "\n",
        "X = Conv2D(filters=128, kernel_size=(3, 3), padding=\"Same\")(X)\n",
        "X = BatchNormalization()(X)\n",
        "X = Activation(\"relu\")(X)\n",
        "X = Conv2D(filters=64, kernel_size=(3, 3), padding=\"Same\", activation=\"relu\")(X)\n",
        "X = Dropout(0.3)(X)\n",
        "X = MaxPooling2D(pool_size=(2, 2), strides=(2, 2))(X)\n",
        "\n",
        "X = Flatten()(X)\n",
        "X = Dense(1024, activation=\"relu\")(X)\n",
        "X = BatchNormalization()(X)\n",
        "X = Dropout(0.2)(X)\n",
        "X = Dense(256, activation=\"relu\")(X)\n",
        "X = BatchNormalization()(X)\n",
        "X = Dropout(0.2)(X)\n",
        "outputs = Dense(10, activation=\"softmax\")(X)\n",
        "\n",
        "model = Model(inputs=inputs, outputs=outputs)\n",
        "model.summary()"
      ],
      "execution_count": null,
      "outputs": [
        {
          "output_type": "stream",
          "name": "stdout",
          "text": [
            "Model: \"model\"\n",
            "_________________________________________________________________\n",
            "Layer (type)                 Output Shape              Param #   \n",
            "=================================================================\n",
            "input_1 (InputLayer)         [(None, 28, 28, 1)]       0         \n",
            "_________________________________________________________________\n",
            "conv2d (Conv2D)              (None, 28, 28, 512)       13312     \n",
            "_________________________________________________________________\n",
            "batch_normalization (BatchNo (None, 28, 28, 512)       2048      \n",
            "_________________________________________________________________\n",
            "activation (Activation)      (None, 28, 28, 512)       0         \n",
            "_________________________________________________________________\n",
            "conv2d_1 (Conv2D)            (None, 28, 28, 256)       3277056   \n",
            "_________________________________________________________________\n",
            "dropout (Dropout)            (None, 28, 28, 256)       0         \n",
            "_________________________________________________________________\n",
            "max_pooling2d (MaxPooling2D) (None, 14, 14, 256)       0         \n",
            "_________________________________________________________________\n",
            "conv2d_2 (Conv2D)            (None, 14, 14, 128)       295040    \n",
            "_________________________________________________________________\n",
            "batch_normalization_1 (Batch (None, 14, 14, 128)       512       \n",
            "_________________________________________________________________\n",
            "activation_1 (Activation)    (None, 14, 14, 128)       0         \n",
            "_________________________________________________________________\n",
            "conv2d_3 (Conv2D)            (None, 14, 14, 64)        73792     \n",
            "_________________________________________________________________\n",
            "dropout_1 (Dropout)          (None, 14, 14, 64)        0         \n",
            "_________________________________________________________________\n",
            "max_pooling2d_1 (MaxPooling2 (None, 7, 7, 64)          0         \n",
            "_________________________________________________________________\n",
            "flatten (Flatten)            (None, 3136)              0         \n",
            "_________________________________________________________________\n",
            "dense (Dense)                (None, 1024)              3212288   \n",
            "_________________________________________________________________\n",
            "batch_normalization_2 (Batch (None, 1024)              4096      \n",
            "_________________________________________________________________\n",
            "dropout_2 (Dropout)          (None, 1024)              0         \n",
            "_________________________________________________________________\n",
            "dense_1 (Dense)              (None, 256)               262400    \n",
            "_________________________________________________________________\n",
            "batch_normalization_3 (Batch (None, 256)               1024      \n",
            "_________________________________________________________________\n",
            "dropout_3 (Dropout)          (None, 256)               0         \n",
            "_________________________________________________________________\n",
            "dense_2 (Dense)              (None, 10)                2570      \n",
            "=================================================================\n",
            "Total params: 7,144,138\n",
            "Trainable params: 7,140,298\n",
            "Non-trainable params: 3,840\n",
            "_________________________________________________________________\n"
          ]
        }
      ]
    },
    {
      "cell_type": "code",
      "metadata": {
        "colab": {
          "base_uri": "https://localhost:8080/"
        },
        "id": "MqkQ72d1hBIS",
        "outputId": "cde1d0a3-7496-469c-f35d-5c484a5d9a94"
      },
      "source": [
        "model.compile(optimizer='adam', loss=\"categorical_crossentropy\", metrics=[\"accuracy\"])\n",
        "history = model.fit(X_train, y_train, batch_size=256, epochs=15, validation_data=(X_val, y_val), verbose=1)"
      ],
      "execution_count": null,
      "outputs": [
        {
          "output_type": "stream",
          "name": "stdout",
          "text": [
            "Epoch 1/15\n",
            "188/188 [==============================] - 122s 443ms/step - loss: 0.1643 - accuracy: 0.9493 - val_loss: 3.4459 - val_accuracy: 0.2041\n",
            "Epoch 2/15\n",
            "188/188 [==============================] - 77s 412ms/step - loss: 0.0524 - accuracy: 0.9833 - val_loss: 2.0312 - val_accuracy: 0.1958\n",
            "Epoch 3/15\n",
            "188/188 [==============================] - 77s 411ms/step - loss: 0.0378 - accuracy: 0.9882 - val_loss: 0.5891 - val_accuracy: 0.8181\n",
            "Epoch 4/15\n",
            "188/188 [==============================] - 77s 411ms/step - loss: 0.0307 - accuracy: 0.9903 - val_loss: 0.1415 - val_accuracy: 0.9603\n",
            "Epoch 5/15\n",
            "188/188 [==============================] - 77s 412ms/step - loss: 0.0261 - accuracy: 0.9917 - val_loss: 0.0559 - val_accuracy: 0.9863\n",
            "Epoch 6/15\n",
            "188/188 [==============================] - 77s 411ms/step - loss: 0.0228 - accuracy: 0.9927 - val_loss: 0.2028 - val_accuracy: 0.9297\n",
            "Epoch 7/15\n",
            "188/188 [==============================] - 77s 411ms/step - loss: 0.0219 - accuracy: 0.9931 - val_loss: 0.0410 - val_accuracy: 0.9867\n",
            "Epoch 8/15\n",
            "188/188 [==============================] - 77s 412ms/step - loss: 0.0188 - accuracy: 0.9939 - val_loss: 0.0448 - val_accuracy: 0.9877\n",
            "Epoch 9/15\n",
            "188/188 [==============================] - 77s 411ms/step - loss: 0.0172 - accuracy: 0.9942 - val_loss: 0.0747 - val_accuracy: 0.9755\n",
            "Epoch 10/15\n",
            "188/188 [==============================] - 77s 411ms/step - loss: 0.0162 - accuracy: 0.9948 - val_loss: 0.0446 - val_accuracy: 0.9870\n",
            "Epoch 11/15\n",
            "188/188 [==============================] - 77s 412ms/step - loss: 0.0134 - accuracy: 0.9956 - val_loss: 0.0652 - val_accuracy: 0.9795\n",
            "Epoch 12/15\n",
            "188/188 [==============================] - 77s 411ms/step - loss: 0.0131 - accuracy: 0.9959 - val_loss: 0.0530 - val_accuracy: 0.9834\n",
            "Epoch 13/15\n",
            "188/188 [==============================] - 77s 411ms/step - loss: 0.0131 - accuracy: 0.9956 - val_loss: 0.0526 - val_accuracy: 0.9847\n",
            "Epoch 14/15\n",
            "188/188 [==============================] - 77s 412ms/step - loss: 0.0129 - accuracy: 0.9960 - val_loss: 0.0557 - val_accuracy: 0.9827\n",
            "Epoch 15/15\n",
            "188/188 [==============================] - 77s 412ms/step - loss: 0.0109 - accuracy: 0.9966 - val_loss: 0.0772 - val_accuracy: 0.9757\n"
          ]
        }
      ]
    },
    {
      "cell_type": "code",
      "metadata": {
        "id": "yPRsfabXhBIS",
        "colab": {
          "base_uri": "https://localhost:8080/"
        },
        "outputId": "5ee9150b-95cd-400e-da19-084906a88030"
      },
      "source": [
        "model.evaluate(X_test, y_test, batch_size=256)"
      ],
      "execution_count": null,
      "outputs": [
        {
          "output_type": "stream",
          "name": "stdout",
          "text": [
            "40/40 [==============================] - 6s 145ms/step - loss: 0.0771 - accuracy: 0.9758\n"
          ]
        },
        {
          "output_type": "execute_result",
          "data": {
            "text/plain": [
              "[0.0770920068025589, 0.9757999777793884]"
            ]
          },
          "metadata": {},
          "execution_count": 10
        }
      ]
    },
    {
      "cell_type": "code",
      "metadata": {
        "id": "mZ49DBA3hBIT"
      },
      "source": [
        "def acc_loss_plot(hist):\n",
        "    \n",
        "    fit, loss_ax = plt.subplots()\n",
        "    acc_ax = loss_ax.twinx()\n",
        "    \n",
        "    loss_ax.plot(hist.history[\"loss\"], \"y\", label=\"train_loss\")\n",
        "    loss_ax.plot(hist.history[\"val_loss\"], \"r\", label=\"val_loss\")\n",
        "    loss_ax.set_xlabel(\"Epoch\")\n",
        "    loss_ax.set_ylabel(\"Loss\")\n",
        "    loss_ax.legend(loc = \"upper left\")\n",
        "    \n",
        "    acc_ax.plot(hist.history[\"accuracy\"], \"b\", label=\"train_acc\")\n",
        "    acc_ax.plot(hist.history[\"val_accuracy\"], \"g\", label=\"val_acc\")\n",
        "    acc_ax.set_ylabel(\"Accuracy\")\n",
        "    acc_ax.legend(loc = \"upper right\")\n",
        "    \n",
        "    plt.show()"
      ],
      "execution_count": null,
      "outputs": []
    },
    {
      "cell_type": "code",
      "metadata": {
        "id": "qVs8gpOZhBIT",
        "colab": {
          "base_uri": "https://localhost:8080/",
          "height": 279
        },
        "outputId": "14c1c6a9-12d5-406b-9998-51ab4be0f0a5"
      },
      "source": [
        "acc_loss_plot(history)"
      ],
      "execution_count": null,
      "outputs": [
        {
          "output_type": "display_data",
          "data": {
            "image/png": "[encoded data removed]",
            "text/plain": [
              "<Figure size 432x288 with 2 Axes>"
            ]
          },
          "metadata": {
            "needs_background": "light"
          }
        }
      ]
    }
  ]
}