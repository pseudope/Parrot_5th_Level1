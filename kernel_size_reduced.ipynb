{
  "nbformat": 4,
  "nbformat_minor": 0,
  "metadata": {
    "colab": {
      "name": "kernel_size.ipynb",
      "provenance": [],
      "collapsed_sections": [],
      "include_colab_link": true
    },
    "kernelspec": {
      "name": "python3",
      "display_name": "Python 3"
    },
    "language_info": {
      "name": "python"
    },
    "accelerator": "GPU"
  },
  "cells": [
    {
      "cell_type": "markdown",
      "metadata": {
        "id": "view-in-github",
        "colab_type": "text"
      },
      "source": [
        "<a href=\"https://colab.research.google.com/github/pseudope/Parrot_5th_Level1/blob/main/kernel_size_reduced.ipynb\" target=\"_parent\"><img src=\"https://colab.research.google.com/assets/colab-badge.svg\" alt=\"Open In Colab\"/></a>"
      ]
    },
    {
      "cell_type": "code",
      "metadata": {
        "colab": {
          "base_uri": "https://localhost:8080/"
        },
        "id": "qWz40uYohBIN",
        "outputId": "506a5bb0-026b-4b6f-c5b1-b1cccdbd1d51"
      },
      "source": [
        "#!/usr/bin/env python3\n",
        "!pip install einops\n",
        "#!pip install tensorflow --user\n",
        "\n",
        "import numpy as np\n",
        "import pandas as pd\n",
        "import tensorflow as tf\n",
        "import matplotlib.pyplot as plt\n",
        "\n",
        "from tensorflow.data import Dataset\n",
        "from tensorflow.keras.models import Model\n",
        "from tensorflow.keras.utils import to_categorical\n",
        "from tensorflow.keras.optimizers import Adam, RMSprop\n",
        "from tensorflow.keras.layers import Input, Dense, Conv2D, Dropout, Flatten, Activation, MaxPooling2D, BatchNormalization\n",
        "\n",
        "from einops import rearrange\n",
        "from sklearn.model_selection import train_test_split"
      ],
      "execution_count": 3,
      "outputs": [
        {
          "output_type": "stream",
          "name": "stdout",
          "text": [
            "Collecting einops\n",
            "  Downloading einops-0.3.2-py3-none-any.whl (25 kB)\n",
            "Installing collected packages: einops\n",
            "Successfully installed einops-0.3.2\n"
          ]
        }
      ]
    },
    {
      "cell_type": "code",
      "metadata": {
        "colab": {
          "base_uri": "https://localhost:8080/"
        },
        "id": "S3WNN5P4hBIO",
        "outputId": "e47de6f3-1629-41bc-f6f8-e4ff4c3c67d0"
      },
      "source": [
        "(X_train, y_train), (X_test, y_test) = tf.keras.datasets.mnist.load_data()\n",
        "\n",
        "print(\"X_train shape: {}\".format(X_train.shape))\n",
        "print(\"X_test shape: {}\".format(X_test.shape))"
      ],
      "execution_count": 4,
      "outputs": [
        {
          "output_type": "stream",
          "name": "stdout",
          "text": [
            "Downloading data from https://storage.googleapis.com/tensorflow/tf-keras-datasets/mnist.npz\n",
            "11493376/11490434 [==============================] - 0s 0us/step\n",
            "11501568/11490434 [==============================] - 0s 0us/step\n",
            "X_train shape: (60000, 28, 28)\n",
            "X_test shape: (10000, 28, 28)\n"
          ]
        }
      ]
    },
    {
      "cell_type": "code",
      "metadata": {
        "colab": {
          "base_uri": "https://localhost:8080/",
          "height": 657
        },
        "id": "KB832lechBIP",
        "outputId": "9bf43a16-cb4b-45d1-eaae-626871c9bde8"
      },
      "source": [
        "fig = plt.figure(figsize=(9, 9))\n",
        "\n",
        "for i in range(9):\n",
        "    plt.subplot(3, 3, 1 + i)\n",
        "    plt.tight_layout()\n",
        "    plt.imshow(X_train[i], cmap=\"gray\", interpolation=\"none\")\n",
        "    target = y_train[i]\n",
        "    plt.title(\"Ground Truth: {}\".format(int(target)))\n",
        "\n",
        "plt.show()"
      ],
      "execution_count": 5,
      "outputs": [
        {
          "output_type": "display_data",
          "data": {
            "image/png": "[encoded data removed]",
            "text/plain": [
              "<Figure size 648x648 with 9 Axes>"
            ]
          },
          "metadata": {
            "needs_background": "light"
          }
        }
      ]
    },
    {
      "cell_type": "code",
      "metadata": {
        "id": "Nq1waxKDhBIP"
      },
      "source": [
        "target_size = 10   # 0 ~ 9, 총 9개\n",
        "\n",
        "### 주의: 흑백 데이터여도 channel 차원을 살려주어야 정상적으로 작동합니다\n",
        "X_train = rearrange(X_train, \"b h w -> b h w 1\")\n",
        "X_test = rearrange(X_test, \"b h w -> b h w 1\")\n",
        "\n",
        "X_train = X_train.astype(\"float32\") / (2 ** 8 - 1)   # 255로 scaling\n",
        "X_test = X_test.astype(\"float32\") / (2 ** 8 - 1)     # 255로 scaling\n",
        "\n",
        "y_train = to_categorical(y_train, target_size)       # 타겟을 정수로 변환\n",
        "y_test = to_categorical(y_test, target_size)         # 타겟을 정수로 변환"
      ],
      "execution_count": 6,
      "outputs": []
    },
    {
      "cell_type": "code",
      "metadata": {
        "id": "7xA3xa64hBIP"
      },
      "source": [
        "X_train, X_val, y_train, y_val = train_test_split(X_train, y_train, test_size=0.2)"
      ],
      "execution_count": 7,
      "outputs": []
    },
    {
      "cell_type": "code",
      "metadata": {
        "colab": {
          "base_uri": "https://localhost:8080/"
        },
        "id": "SyT8hqophBIQ",
        "outputId": "e98d1efc-8162-478d-9c73-8a2b3990cd3c"
      },
      "source": [
        "print(X_train.shape)\n",
        "print(X_val.shape)\n",
        "print(X_test.shape)\n",
        "print(y_train.shape)\n",
        "print(y_val.shape)\n",
        "print(y_test.shape)"
      ],
      "execution_count": 8,
      "outputs": [
        {
          "output_type": "stream",
          "name": "stdout",
          "text": [
            "(48000, 28, 28, 1)\n",
            "(12000, 28, 28, 1)\n",
            "(10000, 28, 28, 1)\n",
            "(48000, 10)\n",
            "(12000, 10)\n",
            "(10000, 10)\n"
          ]
        }
      ]
    },
    {
      "cell_type": "code",
      "metadata": {
        "colab": {
          "base_uri": "https://localhost:8080/"
        },
        "id": "haTxYAXahBIQ",
        "outputId": "d8882f78-8a65-4ba1-ed9e-1a9ad099af70"
      },
      "source": [
        "inputs = Input(shape=(28, 28, 1))\n",
        "\n",
        "X = Conv2D(filters=512, kernel_size=(3, 3), padding=\"Same\")(inputs)\n",
        "X = BatchNormalization()(X)\n",
        "X = Activation(\"relu\")(X)\n",
        "X = Conv2D(filters=256, kernel_size=(3, 3), padding=\"Same\", activation=\"relu\")(X)\n",
        "X = Dropout(0.5)(X)\n",
        "X = MaxPooling2D(pool_size=(2, 2), strides=(2, 2))(X)\n",
        "\n",
        "#X = Conv2D(filters=256, kernel_size=(5, 5), padding=\"Same\")(X)\n",
        "#X = BatchNormalization()(X)\n",
        "#X = Activation(\"relu\")(X)\n",
        "#X = Conv2D(filters=128, kernel_size=(5, 5), padding=\"Same\", activation=\"relu\")(X)\n",
        "#X = Dropout(0.5)(X)\n",
        "#X = MaxPooling2D(pool_size=(2, 2), strides=(2, 2))(X)\n",
        "\n",
        "X = Conv2D(filters=128, kernel_size=(3, 3), padding=\"Same\")(X)\n",
        "X = BatchNormalization()(X)\n",
        "X = Activation(\"relu\")(X)\n",
        "X = Conv2D(filters=64, kernel_size=(1, 1), padding=\"Same\", activation=\"relu\")(X)\n",
        "X = Dropout(0.3)(X)\n",
        "X = MaxPooling2D(pool_size=(2, 2), strides=(2, 2))(X)\n",
        "\n",
        "X = Flatten()(X)\n",
        "X = Dense(1024, activation=\"relu\")(X)\n",
        "X = BatchNormalization()(X)\n",
        "X = Dropout(0.2)(X)\n",
        "X = Dense(512, activation=\"relu\")(X)\n",
        "X = BatchNormalization()(X)\n",
        "X = Dropout(0.2)(X)\n",
        "X = Dense(256, activation=\"relu\")(X)\n",
        "X = BatchNormalization()(X)\n",
        "X = Dropout(0.2)(X)\n",
        "outputs = Dense(10, activation=\"softmax\")(X)\n",
        "\n",
        "model = Model(inputs=inputs, outputs=outputs)\n",
        "model.summary()"
      ],
      "execution_count": 9,
      "outputs": [
        {
          "output_type": "stream",
          "name": "stdout",
          "text": [
            "Model: \"model\"\n",
            "_________________________________________________________________\n",
            "Layer (type)                 Output Shape              Param #   \n",
            "=================================================================\n",
            "input_1 (InputLayer)         [(None, 28, 28, 1)]       0         \n",
            "_________________________________________________________________\n",
            "conv2d (Conv2D)              (None, 28, 28, 512)       5120      \n",
            "_________________________________________________________________\n",
            "batch_normalization (BatchNo (None, 28, 28, 512)       2048      \n",
            "_________________________________________________________________\n",
            "activation (Activation)      (None, 28, 28, 512)       0         \n",
            "_________________________________________________________________\n",
            "conv2d_1 (Conv2D)            (None, 28, 28, 256)       1179904   \n",
            "_________________________________________________________________\n",
            "dropout (Dropout)            (None, 28, 28, 256)       0         \n",
            "_________________________________________________________________\n",
            "max_pooling2d (MaxPooling2D) (None, 14, 14, 256)       0         \n",
            "_________________________________________________________________\n",
            "conv2d_2 (Conv2D)            (None, 14, 14, 128)       295040    \n",
            "_________________________________________________________________\n",
            "batch_normalization_1 (Batch (None, 14, 14, 128)       512       \n",
            "_________________________________________________________________\n",
            "activation_1 (Activation)    (None, 14, 14, 128)       0         \n",
            "_________________________________________________________________\n",
            "conv2d_3 (Conv2D)            (None, 14, 14, 64)        8256      \n",
            "_________________________________________________________________\n",
            "dropout_1 (Dropout)          (None, 14, 14, 64)        0         \n",
            "_________________________________________________________________\n",
            "max_pooling2d_1 (MaxPooling2 (None, 7, 7, 64)          0         \n",
            "_________________________________________________________________\n",
            "flatten (Flatten)            (None, 3136)              0         \n",
            "_________________________________________________________________\n",
            "dense (Dense)                (None, 1024)              3212288   \n",
            "_________________________________________________________________\n",
            "batch_normalization_2 (Batch (None, 1024)              4096      \n",
            "_________________________________________________________________\n",
            "dropout_2 (Dropout)          (None, 1024)              0         \n",
            "_________________________________________________________________\n",
            "dense_1 (Dense)              (None, 512)               524800    \n",
            "_________________________________________________________________\n",
            "batch_normalization_3 (Batch (None, 512)               2048      \n",
            "_________________________________________________________________\n",
            "dropout_3 (Dropout)          (None, 512)               0         \n",
            "_________________________________________________________________\n",
            "dense_2 (Dense)              (None, 256)               131328    \n",
            "_________________________________________________________________\n",
            "batch_normalization_4 (Batch (None, 256)               1024      \n",
            "_________________________________________________________________\n",
            "dropout_4 (Dropout)          (None, 256)               0         \n",
            "_________________________________________________________________\n",
            "dense_3 (Dense)              (None, 10)                2570      \n",
            "=================================================================\n",
            "Total params: 5,369,034\n",
            "Trainable params: 5,364,170\n",
            "Non-trainable params: 4,864\n",
            "_________________________________________________________________\n"
          ]
        }
      ]
    },
    {
      "cell_type": "code",
      "metadata": {
        "colab": {
          "base_uri": "https://localhost:8080/"
        },
        "id": "MqkQ72d1hBIS",
        "outputId": "f0225416-2efb-4bf7-b1a1-3570d4b5f13f"
      },
      "source": [
        "def scheduler(epoch, lr):\n",
        "  if epoch < 10:\n",
        "    return lr\n",
        "  else:\n",
        "    return lr * tf.math.exp(-0.1)\n",
        "\n",
        "callback = [\n",
        "            tf.keras.callbacks.LearningRateScheduler(scheduler),\n",
        "            tf.keras.callbacks.EarlyStopping(monitor='val_loss', patience=5)\n",
        "]\n",
        "\n",
        "model.compile(optimizer='adam', loss=\"categorical_crossentropy\", metrics=[\"accuracy\"])\n",
        "history = model.fit(X_train, y_train, batch_size=256, epochs=15, callbacks = callback, validation_data=(X_val, y_val), verbose=1)"
      ],
      "execution_count": 10,
      "outputs": [
        {
          "output_type": "stream",
          "name": "stdout",
          "text": [
            "Epoch 1/15\n",
            "188/188 [==============================] - 126s 462ms/step - loss: 0.1829 - accuracy: 0.9438 - val_loss: 3.3917 - val_accuracy: 0.2891\n",
            "Epoch 2/15\n",
            "188/188 [==============================] - 78s 413ms/step - loss: 0.0556 - accuracy: 0.9830 - val_loss: 3.5488 - val_accuracy: 0.2008\n",
            "Epoch 3/15\n",
            "188/188 [==============================] - 78s 414ms/step - loss: 0.0407 - accuracy: 0.9871 - val_loss: 1.3425 - val_accuracy: 0.6256\n",
            "Epoch 4/15\n",
            "188/188 [==============================] - 78s 414ms/step - loss: 0.0346 - accuracy: 0.9887 - val_loss: 0.2208 - val_accuracy: 0.9299\n",
            "Epoch 5/15\n",
            "188/188 [==============================] - 78s 414ms/step - loss: 0.0314 - accuracy: 0.9898 - val_loss: 0.2092 - val_accuracy: 0.9348\n",
            "Epoch 6/15\n",
            "188/188 [==============================] - 78s 413ms/step - loss: 0.0251 - accuracy: 0.9918 - val_loss: 0.0934 - val_accuracy: 0.9712\n",
            "Epoch 7/15\n",
            "188/188 [==============================] - 78s 413ms/step - loss: 0.0237 - accuracy: 0.9923 - val_loss: 0.1045 - val_accuracy: 0.9640\n",
            "Epoch 8/15\n",
            "188/188 [==============================] - 78s 413ms/step - loss: 0.0202 - accuracy: 0.9933 - val_loss: 0.1864 - val_accuracy: 0.9390\n",
            "Epoch 9/15\n",
            "188/188 [==============================] - 78s 412ms/step - loss: 0.0196 - accuracy: 0.9932 - val_loss: 0.0717 - val_accuracy: 0.9770\n",
            "Epoch 10/15\n",
            "188/188 [==============================] - 77s 411ms/step - loss: 0.0189 - accuracy: 0.9944 - val_loss: 0.0725 - val_accuracy: 0.9765\n",
            "Epoch 11/15\n",
            "188/188 [==============================] - 77s 412ms/step - loss: 0.0139 - accuracy: 0.9952 - val_loss: 0.0808 - val_accuracy: 0.9728\n",
            "Epoch 12/15\n",
            "188/188 [==============================] - 77s 409ms/step - loss: 0.0110 - accuracy: 0.9966 - val_loss: 0.0692 - val_accuracy: 0.9797\n",
            "Epoch 13/15\n",
            "188/188 [==============================] - 77s 409ms/step - loss: 0.0099 - accuracy: 0.9967 - val_loss: 0.0612 - val_accuracy: 0.9804\n",
            "Epoch 14/15\n",
            "188/188 [==============================] - 77s 408ms/step - loss: 0.0080 - accuracy: 0.9975 - val_loss: 0.0568 - val_accuracy: 0.9817\n",
            "Epoch 15/15\n",
            "188/188 [==============================] - 76s 406ms/step - loss: 0.0076 - accuracy: 0.9975 - val_loss: 0.0571 - val_accuracy: 0.9818\n"
          ]
        }
      ]
    },
    {
      "cell_type": "code",
      "metadata": {
        "id": "yPRsfabXhBIS",
        "colab": {
          "base_uri": "https://localhost:8080/"
        },
        "outputId": "8f6bf9fb-3a59-4023-eb73-71ecd5934f27"
      },
      "source": [
        "model.evaluate(X_test, y_test, batch_size=256)"
      ],
      "execution_count": 11,
      "outputs": [
        {
          "output_type": "stream",
          "name": "stdout",
          "text": [
            "40/40 [==============================] - 5s 135ms/step - loss: 0.0606 - accuracy: 0.9800\n"
          ]
        },
        {
          "output_type": "execute_result",
          "data": {
            "text/plain": [
              "[0.06060802564024925, 0.9800000190734863]"
            ]
          },
          "metadata": {},
          "execution_count": 11
        }
      ]
    },
    {
      "cell_type": "code",
      "metadata": {
        "id": "mZ49DBA3hBIT"
      },
      "source": [
        "def acc_loss_plot(hist):\n",
        "    \n",
        "    fit, loss_ax = plt.subplots()\n",
        "    acc_ax = loss_ax.twinx()\n",
        "    \n",
        "    loss_ax.plot(hist.history[\"loss\"], \"y\", label=\"train_loss\")\n",
        "    loss_ax.plot(hist.history[\"val_loss\"], \"r\", label=\"val_loss\")\n",
        "    loss_ax.set_xlabel(\"Epoch\")\n",
        "    loss_ax.set_ylabel(\"Loss\")\n",
        "    loss_ax.legend(loc = \"upper left\")\n",
        "    \n",
        "    acc_ax.plot(hist.history[\"accuracy\"], \"b\", label=\"train_acc\")\n",
        "    acc_ax.plot(hist.history[\"val_accuracy\"], \"g\", label=\"val_acc\")\n",
        "    acc_ax.set_ylabel(\"Accuracy\")\n",
        "    acc_ax.legend(loc = \"upper right\")\n",
        "    \n",
        "    plt.show()"
      ],
      "execution_count": 12,
      "outputs": []
    },
    {
      "cell_type": "code",
      "metadata": {
        "id": "qVs8gpOZhBIT",
        "colab": {
          "base_uri": "https://localhost:8080/",
          "height": 279
        },
        "outputId": "92baa5dc-dc7d-4f92-a2dc-133f759612f7"
      },
      "source": [
        "acc_loss_plot(history)"
      ],
      "execution_count": 13,
      "outputs": [
        {
          "output_type": "display_data",
          "data": {
            "image/png": "[encoded data removed]",
            "text/plain": [
              "<Figure size 432x288 with 2 Axes>"
            ]
          },
          "metadata": {
            "needs_background": "light"
          }
        }
      ]
    },
    {
      "cell_type": "code",
      "metadata": {
        "id": "kFD0TsyM9t24"
      },
      "source": [
        ""
      ],
      "execution_count": null,
      "outputs": []
    }
  ]
}