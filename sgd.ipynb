{
  "nbformat": 4,
  "nbformat_minor": 0,
  "metadata": {
    "colab": {
      "name": "sgd",
      "provenance": [],
      "collapsed_sections": [],
      "authorship_tag": "ABX9TyMv6mEMRKmDsaCjSoqVGDFM",
      "include_colab_link": true
    },
    "kernelspec": {
      "name": "python3",
      "display_name": "Python 3"
    },
    "language_info": {
      "name": "python"
    },
    "accelerator": "GPU"
  },
  "cells": [
    {
      "cell_type": "markdown",
      "metadata": {
        "id": "view-in-github",
        "colab_type": "text"
      },
      "source": [
        "<a href=\"https://colab.research.google.com/github/pseudope/Parrot_5th_Level1/blob/main/sgd.ipynb\" target=\"_parent\"><img src=\"https://colab.research.google.com/assets/colab-badge.svg\" alt=\"Open In Colab\"/></a>"
      ]
    },
    {
      "cell_type": "code",
      "metadata": {
        "colab": {
          "base_uri": "https://localhost:8080/"
        },
        "id": "ExknVWQbXjuw",
        "outputId": "de495dd1-8dff-4a7e-fe3d-0a38f301d0b6"
      },
      "source": [
        "!pip install einops\n",
        "import numpy as np\n",
        "import pandas as pd\n",
        "import tensorflow as tf\n",
        "import matplotlib.pyplot as plt\n",
        "\n",
        "from tensorflow.data import Dataset\n",
        "from tensorflow.keras.models import Model\n",
        "from tensorflow.keras.utils import to_categorical\n",
        "from tensorflow.keras.optimizers import Adam, RMSprop\n",
        "from tensorflow.keras.layers import Input, Dense, Conv2D, Dropout, Flatten, Activation, MaxPooling2D, BatchNormalization\n",
        "from einops import rearrange\n",
        "from sklearn.model_selection import train_test_split"
      ],
      "execution_count": 22,
      "outputs": [
        {
          "output_type": "stream",
          "name": "stdout",
          "text": [
            "Requirement already satisfied: einops in /usr/local/lib/python3.7/dist-packages (0.3.2)\n"
          ]
        }
      ]
    },
    {
      "cell_type": "code",
      "metadata": {
        "colab": {
          "base_uri": "https://localhost:8080/"
        },
        "id": "eHj0TaAtYBEF",
        "outputId": "aa811e94-5c41-402a-c689-8145482b011c"
      },
      "source": [
        "(X_train, y_train), (X_test, y_test) = tf.keras.datasets.mnist.load_data()\n",
        "\n",
        "print(\"X_train shape: {}\".format(X_train.shape))\n",
        "print(\"X_test shape: {}\".format(X_test.shape))"
      ],
      "execution_count": 30,
      "outputs": [
        {
          "output_type": "stream",
          "name": "stdout",
          "text": [
            "X_train shape: (60000, 28, 28)\n",
            "X_test shape: (10000, 28, 28)\n"
          ]
        }
      ]
    },
    {
      "cell_type": "code",
      "metadata": {
        "colab": {
          "base_uri": "https://localhost:8080/",
          "height": 657
        },
        "id": "4z8zhSknYBG6",
        "outputId": "c3951ae6-fcdc-4e45-e55b-8e43211d717f"
      },
      "source": [
        "fig = plt.figure(figsize=(9, 9))\n",
        "\n",
        "for i in range(9):\n",
        "    plt.subplot(3, 3, 1 + i)\n",
        "    plt.tight_layout()\n",
        "    plt.imshow(X_train[i], cmap=\"gray\", interpolation=\"none\")\n",
        "    target = y_train[i]\n",
        "    plt.title(\"Ground Truth: {}\".format(int(target)))\n",
        "\n",
        "plt.show()"
      ],
      "execution_count": 31,
      "outputs": [
        {
          "output_type": "display_data",
          "data": {
            "image/png": "[encoded data removed]",
            "text/plain": [
              "<Figure size 648x648 with 9 Axes>"
            ]
          },
          "metadata": {
            "needs_background": "light"
          }
        }
      ]
    },
    {
      "cell_type": "code",
      "metadata": {
        "id": "ziJSQFkqYBMp"
      },
      "source": [
        "target_size = 10   #\n",
        "\n",
        "\n",
        "X_train = rearrange(X_train, \"b h w -> b h w 1\")\n",
        "X_test = rearrange(X_test, \"b h w -> b h w 1\")\n",
        "\n",
        "X_train = X_train.astype(\"float32\") / (2 ** 8 - 1)   \n",
        "X_test = X_test.astype(\"float32\") / (2 ** 8 - 1)    \n",
        "\n",
        "y_train = to_categorical(y_train, target_size)    \n",
        "y_test = to_categorical(y_test, target_size)   "
      ],
      "execution_count": 32,
      "outputs": []
    },
    {
      "cell_type": "code",
      "metadata": {
        "id": "60rOrMdwYBP0"
      },
      "source": [
        "X_train, X_val, y_train, y_val = train_test_split(X_train, y_train, test_size=0.2)"
      ],
      "execution_count": 33,
      "outputs": []
    },
    {
      "cell_type": "code",
      "metadata": {
        "colab": {
          "base_uri": "https://localhost:8080/"
        },
        "id": "zy_uEqnkaFZL",
        "outputId": "f2b51770-f2e2-4f8f-ca43-acfe9c417e7b"
      },
      "source": [
        "inputs = Input(shape=(28, 28, 1))  \n",
        "\n",
        "X = Conv2D(filters=512, kernel_size=(3, 3), padding=\"Same\")(inputs)\n",
        "X = BatchNormalization()(X)\n",
        "X = Activation(\"relu\")(X)\n",
        "X = Conv2D(filters=512, kernel_size=(3, 3), padding=\"Same\", activation=\"relu\")(X)\n",
        "X = Dropout(0.5)(X)\n",
        "X = MaxPooling2D(pool_size=(2, 2), strides=(2, 2))(X)\n",
        "\n",
        "X = Conv2D(filters=256, kernel_size=(3, 3), padding=\"Same\")(X)\n",
        "X = BatchNormalization()(X)\n",
        "X = Activation(\"relu\")(X)\n",
        "X = Conv2D(filters=128, kernel_size=(3, 3), padding=\"Same\", activation=\"relu\")(X)\n",
        "X = Dropout(0.5)(X)\n",
        "X = MaxPooling2D(pool_size=(2, 2), strides=(2, 2))(X)\n",
        "\n",
        "X = Conv2D(filters=64, kernel_size=(3, 3), padding=\"Same\")(X)\n",
        "X = BatchNormalization()(X)\n",
        "X = Activation(\"relu\")(X)\n",
        "X = Conv2D(filters=64, kernel_size=(3, 3), padding=\"Same\", activation=\"relu\")(X)\n",
        "X = Dropout(0.3)(X)\n",
        "X = MaxPooling2D(pool_size=(2, 2), strides=(2, 2))(X)\n",
        "\n",
        "X = Flatten()(X)\n",
        "X = Dense(1024, activation=\"relu\")(X)\n",
        "X = BatchNormalization()(X)\n",
        "X = Dropout(0.2)(X)\n",
        "X = Dense(256, activation=\"relu\")(X)\n",
        "X = BatchNormalization()(X)\n",
        "X = Dropout(0.2)(X)\n",
        "outputs = Dense(10, activation=\"softmax\")(X)\n",
        "\n",
        "model = Model(inputs=inputs, outputs=outputs)\n",
        "model.summary()"
      ],
      "execution_count": 34,
      "outputs": [
        {
          "output_type": "stream",
          "name": "stdout",
          "text": [
            "Model: \"model_3\"\n",
            "_________________________________________________________________\n",
            "Layer (type)                 Output Shape              Param #   \n",
            "=================================================================\n",
            "input_4 (InputLayer)         [(None, 28, 28, 1)]       0         \n",
            "_________________________________________________________________\n",
            "conv2d_18 (Conv2D)           (None, 28, 28, 512)       5120      \n",
            "_________________________________________________________________\n",
            "batch_normalization_15 (Batc (None, 28, 28, 512)       2048      \n",
            "_________________________________________________________________\n",
            "activation_9 (Activation)    (None, 28, 28, 512)       0         \n",
            "_________________________________________________________________\n",
            "conv2d_19 (Conv2D)           (None, 28, 28, 512)       2359808   \n",
            "_________________________________________________________________\n",
            "dropout_15 (Dropout)         (None, 28, 28, 512)       0         \n",
            "_________________________________________________________________\n",
            "max_pooling2d_9 (MaxPooling2 (None, 14, 14, 512)       0         \n",
            "_________________________________________________________________\n",
            "conv2d_20 (Conv2D)           (None, 14, 14, 256)       1179904   \n",
            "_________________________________________________________________\n",
            "batch_normalization_16 (Batc (None, 14, 14, 256)       1024      \n",
            "_________________________________________________________________\n",
            "activation_10 (Activation)   (None, 14, 14, 256)       0         \n",
            "_________________________________________________________________\n",
            "conv2d_21 (Conv2D)           (None, 14, 14, 128)       295040    \n",
            "_________________________________________________________________\n",
            "dropout_16 (Dropout)         (None, 14, 14, 128)       0         \n",
            "_________________________________________________________________\n",
            "max_pooling2d_10 (MaxPooling (None, 7, 7, 128)         0         \n",
            "_________________________________________________________________\n",
            "conv2d_22 (Conv2D)           (None, 7, 7, 64)          73792     \n",
            "_________________________________________________________________\n",
            "batch_normalization_17 (Batc (None, 7, 7, 64)          256       \n",
            "_________________________________________________________________\n",
            "activation_11 (Activation)   (None, 7, 7, 64)          0         \n",
            "_________________________________________________________________\n",
            "conv2d_23 (Conv2D)           (None, 7, 7, 64)          36928     \n",
            "_________________________________________________________________\n",
            "dropout_17 (Dropout)         (None, 7, 7, 64)          0         \n",
            "_________________________________________________________________\n",
            "max_pooling2d_11 (MaxPooling (None, 3, 3, 64)          0         \n",
            "_________________________________________________________________\n",
            "flatten_3 (Flatten)          (None, 576)               0         \n",
            "_________________________________________________________________\n",
            "dense_9 (Dense)              (None, 1024)              590848    \n",
            "_________________________________________________________________\n",
            "batch_normalization_18 (Batc (None, 1024)              4096      \n",
            "_________________________________________________________________\n",
            "dropout_18 (Dropout)         (None, 1024)              0         \n",
            "_________________________________________________________________\n",
            "dense_10 (Dense)             (None, 256)               262400    \n",
            "_________________________________________________________________\n",
            "batch_normalization_19 (Batc (None, 256)               1024      \n",
            "_________________________________________________________________\n",
            "dropout_19 (Dropout)         (None, 256)               0         \n",
            "_________________________________________________________________\n",
            "dense_11 (Dense)             (None, 10)                2570      \n",
            "=================================================================\n",
            "Total params: 4,814,858\n",
            "Trainable params: 4,810,634\n",
            "Non-trainable params: 4,224\n",
            "_________________________________________________________________\n"
          ]
        }
      ]
    },
    {
      "cell_type": "code",
      "metadata": {
        "colab": {
          "base_uri": "https://localhost:8080/"
        },
        "id": "rQ_D7B6BaFWO",
        "outputId": "3377b7de-ee3d-4e23-d68c-337be3f3bcd4"
      },
      "source": [
        "model.compile(optimizer='sgd', loss=\"categorical_crossentropy\", metrics=[\"accuracy\"])\n",
        "history = model.fit(X_train, y_train, batch_size=256, epochs=15, validation_data=(X_val, y_val), verbose=1)"
      ],
      "execution_count": 36,
      "outputs": [
        {
          "output_type": "stream",
          "name": "stdout",
          "text": [
            "Epoch 1/15\n",
            "188/188 [==============================] - 146s 770ms/step - loss: 0.5284 - accuracy: 0.8334 - val_loss: 2.6750 - val_accuracy: 0.0900\n",
            "Epoch 2/15\n",
            "188/188 [==============================] - 144s 766ms/step - loss: 0.1582 - accuracy: 0.9516 - val_loss: 3.1436 - val_accuracy: 0.1989\n",
            "Epoch 3/15\n",
            "188/188 [==============================] - 145s 772ms/step - loss: 0.1154 - accuracy: 0.9658 - val_loss: 2.5511 - val_accuracy: 0.2023\n",
            "Epoch 4/15\n",
            "188/188 [==============================] - 145s 774ms/step - loss: 0.0943 - accuracy: 0.9706 - val_loss: 1.1364 - val_accuracy: 0.5572\n",
            "Epoch 5/15\n",
            "188/188 [==============================] - 145s 774ms/step - loss: 0.0792 - accuracy: 0.9755 - val_loss: 0.8886 - val_accuracy: 0.7013\n",
            "Epoch 6/15\n",
            "188/188 [==============================] - 145s 774ms/step - loss: 0.0694 - accuracy: 0.9789 - val_loss: 0.6781 - val_accuracy: 0.8023\n",
            "Epoch 7/15\n",
            "188/188 [==============================] - 145s 774ms/step - loss: 0.0664 - accuracy: 0.9800 - val_loss: 0.7677 - val_accuracy: 0.7312\n",
            "Epoch 8/15\n",
            "188/188 [==============================] - 145s 774ms/step - loss: 0.0606 - accuracy: 0.9812 - val_loss: 0.5635 - val_accuracy: 0.8417\n",
            "Epoch 9/15\n",
            "188/188 [==============================] - 145s 774ms/step - loss: 0.0560 - accuracy: 0.9824 - val_loss: 0.4947 - val_accuracy: 0.8709\n",
            "Epoch 10/15\n",
            "188/188 [==============================] - 145s 774ms/step - loss: 0.0538 - accuracy: 0.9832 - val_loss: 0.4586 - val_accuracy: 0.8826\n",
            "Epoch 11/15\n",
            "188/188 [==============================] - 145s 774ms/step - loss: 0.0506 - accuracy: 0.9842 - val_loss: 0.4046 - val_accuracy: 0.9100\n",
            "Epoch 12/15\n",
            "188/188 [==============================] - 145s 774ms/step - loss: 0.0488 - accuracy: 0.9845 - val_loss: 0.4283 - val_accuracy: 0.9041\n",
            "Epoch 13/15\n",
            "188/188 [==============================] - 145s 774ms/step - loss: 0.0448 - accuracy: 0.9861 - val_loss: 0.3804 - val_accuracy: 0.9109\n",
            "Epoch 14/15\n",
            "188/188 [==============================] - 145s 774ms/step - loss: 0.0423 - accuracy: 0.9866 - val_loss: 0.3575 - val_accuracy: 0.9306\n",
            "Epoch 15/15\n",
            "188/188 [==============================] - 145s 774ms/step - loss: 0.0421 - accuracy: 0.9867 - val_loss: 0.2859 - val_accuracy: 0.9532\n"
          ]
        }
      ]
    },
    {
      "cell_type": "code",
      "metadata": {
        "id": "s-4-XUXTaFTJ",
        "colab": {
          "base_uri": "https://localhost:8080/"
        },
        "outputId": "3b1926d1-6310-4a0c-bdb0-1e7318851c7f"
      },
      "source": [
        "model.evaluate(X_test, y_test, batch_size=256)"
      ],
      "execution_count": 37,
      "outputs": [
        {
          "output_type": "stream",
          "name": "stdout",
          "text": [
            "40/40 [==============================] - 10s 253ms/step - loss: 0.2791 - accuracy: 0.9565\n"
          ]
        },
        {
          "output_type": "execute_result",
          "data": {
            "text/plain": [
              "[0.2791149914264679, 0.9564999938011169]"
            ]
          },
          "metadata": {},
          "execution_count": 37
        }
      ]
    },
    {
      "cell_type": "code",
      "metadata": {
        "id": "YfPHQOejaFHV"
      },
      "source": [
        ""
      ],
      "execution_count": null,
      "outputs": []
    }
  ]
}