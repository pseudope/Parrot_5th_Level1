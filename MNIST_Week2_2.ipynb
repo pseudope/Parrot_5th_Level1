{
  "nbformat": 4,
  "nbformat_minor": 0,
  "metadata": {
    "colab": {
      "name": "MNIST_Week2_2",
      "provenance": [],
      "collapsed_sections": [],
      "include_colab_link": true
    },
    "kernelspec": {
      "name": "python3",
      "display_name": "Python 3"
    },
    "language_info": {
      "name": "python"
    },
    "accelerator": "GPU"
  },
  "cells": [
    {
      "cell_type": "markdown",
      "metadata": {
        "id": "view-in-github",
        "colab_type": "text"
      },
      "source": [
        "<a href=\"https://colab.research.google.com/github/pseudope/Parrot_5th_Level1/blob/main/MNIST_Week2_2.ipynb\" target=\"_parent\"><img src=\"https://colab.research.google.com/assets/colab-badge.svg\" alt=\"Open In Colab\"/></a>"
      ]
    },
    {
      "cell_type": "code",
      "metadata": {
        "colab": {
          "base_uri": "https://localhost:8080/"
        },
        "id": "qWz40uYohBIN",
        "outputId": "af2cd29e-fd69-4fac-f0ae-44d3633c1f8f"
      },
      "source": [
        "#!/usr/bin/env python3\n",
        "!pip install einops\n",
        "#!pip install tensorflow --user\n",
        "\n",
        "import numpy as np\n",
        "import pandas as pd\n",
        "import tensorflow as tf\n",
        "import matplotlib.pyplot as plt\n",
        "\n",
        "from tensorflow.data import Dataset\n",
        "from tensorflow.keras.models import Model\n",
        "from tensorflow.keras.utils import to_categorical\n",
        "from tensorflow.keras.optimizers import Adam, RMSprop\n",
        "from tensorflow.keras.layers import Input, Dense, Conv2D, Dropout, Flatten, Activation, MaxPooling2D, BatchNormalization\n",
        "\n",
        "from einops import rearrange\n",
        "from sklearn.model_selection import train_test_split"
      ],
      "execution_count": 1,
      "outputs": [
        {
          "output_type": "stream",
          "name": "stdout",
          "text": [
            "Collecting einops\n",
            "  Downloading einops-0.3.2-py3-none-any.whl (25 kB)\n",
            "Installing collected packages: einops\n",
            "Successfully installed einops-0.3.2\n"
          ]
        }
      ]
    },
    {
      "cell_type": "code",
      "metadata": {
        "colab": {
          "base_uri": "https://localhost:8080/"
        },
        "id": "S3WNN5P4hBIO",
        "outputId": "6526c3e0-c771-4d15-b7e2-ee84b1ef4859"
      },
      "source": [
        "(X_train, y_train), (X_test, y_test) = tf.keras.datasets.mnist.load_data()\n",
        "\n",
        "print(\"X_train shape: {}\".format(X_train.shape))\n",
        "print(\"X_test shape: {}\".format(X_test.shape))"
      ],
      "execution_count": 2,
      "outputs": [
        {
          "output_type": "stream",
          "name": "stdout",
          "text": [
            "Downloading data from https://storage.googleapis.com/tensorflow/tf-keras-datasets/mnist.npz\n",
            "11493376/11490434 [==============================] - 0s 0us/step\n",
            "11501568/11490434 [==============================] - 0s 0us/step\n",
            "X_train shape: (60000, 28, 28)\n",
            "X_test shape: (10000, 28, 28)\n"
          ]
        }
      ]
    },
    {
      "cell_type": "code",
      "metadata": {
        "colab": {
          "base_uri": "https://localhost:8080/",
          "height": 657
        },
        "id": "KB832lechBIP",
        "outputId": "6737a873-21de-4a42-ab80-42797c249956"
      },
      "source": [
        "fig = plt.figure(figsize=(9, 9))\n",
        "\n",
        "for i in range(9):\n",
        "    plt.subplot(3, 3, 1 + i)\n",
        "    plt.tight_layout()\n",
        "    plt.imshow(X_train[i], cmap=\"gray\", interpolation=\"none\")\n",
        "    target = y_train[i]\n",
        "    plt.title(\"Ground Truth: {}\".format(int(target)))\n",
        "\n",
        "plt.show()"
      ],
      "execution_count": 3,
      "outputs": [
        {
          "output_type": "display_data",
          "data": {
            "image/png": "[encoded data removed]",
            "text/plain": [
              "<Figure size 648x648 with 9 Axes>"
            ]
          },
          "metadata": {
            "needs_background": "light"
          }
        }
      ]
    },
    {
      "cell_type": "code",
      "metadata": {
        "id": "Nq1waxKDhBIP"
      },
      "source": [
        "target_size = 10   # 0 ~ 9, 총 9개\n",
        "\n",
        "### 주의: 흑백 데이터여도 channel 차원을 살려주어야 정상적으로 작동합니다\n",
        "X_train = rearrange(X_train, \"b h w -> b h w 1\")\n",
        "X_test = rearrange(X_test, \"b h w -> b h w 1\")\n",
        "\n",
        "X_train = X_train.astype(\"float32\") / (2 ** 8 - 1)   # 255로 scaling\n",
        "X_test = X_test.astype(\"float32\") / (2 ** 8 - 1)     # 255로 scaling\n",
        "\n",
        "y_train = to_categorical(y_train, target_size)       # 타겟을 정수로 변환\n",
        "y_test = to_categorical(y_test, target_size)         # 타겟을 정수로 변환"
      ],
      "execution_count": 4,
      "outputs": []
    },
    {
      "cell_type": "code",
      "metadata": {
        "id": "7xA3xa64hBIP"
      },
      "source": [
        "X_train, X_val, y_train, y_val = train_test_split(X_train, y_train, test_size=0.2)"
      ],
      "execution_count": 5,
      "outputs": []
    },
    {
      "cell_type": "code",
      "metadata": {
        "colab": {
          "base_uri": "https://localhost:8080/"
        },
        "id": "SyT8hqophBIQ",
        "outputId": "063503e8-193b-4bce-a2c8-ce2f746f2b3e"
      },
      "source": [
        "print(X_train.shape)\n",
        "print(X_val.shape)\n",
        "print(X_test.shape)\n",
        "print(y_train.shape)\n",
        "print(y_val.shape)\n",
        "print(y_test.shape)"
      ],
      "execution_count": 6,
      "outputs": [
        {
          "output_type": "stream",
          "name": "stdout",
          "text": [
            "(48000, 28, 28, 1)\n",
            "(12000, 28, 28, 1)\n",
            "(10000, 28, 28, 1)\n",
            "(48000, 10)\n",
            "(12000, 10)\n",
            "(10000, 10)\n"
          ]
        }
      ]
    },
    {
      "cell_type": "markdown",
      "metadata": {
        "id": "paFz-UgbR85m"
      },
      "source": [
        "Changes Made:\n",
        "*   1st conv layer filter size 256, 128 -> 128 128\n",
        "*   Epochs increased to 20\n",
        "\n",
        "\n",
        "\n",
        "\n",
        "\n",
        "\n",
        "\n"
      ]
    },
    {
      "cell_type": "code",
      "metadata": {
        "colab": {
          "base_uri": "https://localhost:8080/"
        },
        "id": "haTxYAXahBIQ",
        "outputId": "49d0d723-b062-464c-801e-f90e4f271ec2"
      },
      "source": [
        "inputs = Input(shape=(28, 28, 1))\n",
        "\n",
        "X = Conv2D(filters=128, kernel_size=(3, 3), padding=\"Same\")(inputs)\n",
        "X = BatchNormalization()(X)\n",
        "X = Activation(\"relu\")(X)\n",
        "X = Conv2D(filters=128, kernel_size=(3, 3), padding=\"Same\", activation=\"relu\")(X)\n",
        "#X = Dropout(0.5)(X)\n",
        "X = MaxPooling2D(pool_size=(2, 2), strides=(2, 2))(X)\n",
        "\n",
        "X = Conv2D(filters=128, kernel_size=(3, 3), padding=\"Same\")(X)\n",
        "X = BatchNormalization()(X)\n",
        "X = Activation(\"relu\")(X)\n",
        "X = Conv2D(filters=64, kernel_size=(3, 3), padding=\"Same\", activation=\"relu\")(X)\n",
        "#X = Dropout(0.3)(X)\n",
        "X = MaxPooling2D(pool_size=(2, 2), strides=(2, 2))(X)\n",
        "\n",
        "X = Flatten()(X)\n",
        "X = Dense(256, activation=\"relu\")(X)\n",
        "X = BatchNormalization()(X)\n",
        "X = Dropout(0.5)(X)\n",
        "X = Dense(128, activation=\"relu\")(X)\n",
        "X = BatchNormalization()(X)\n",
        "X = Dropout(0.4)(X)\n",
        "X = Dense(64, activation=\"relu\")(X)\n",
        "X = BatchNormalization()(X)\n",
        "X = Dropout(0.2)(X)\n",
        "outputs = Dense(10, activation=\"softmax\")(X)\n",
        "\n",
        "model = Model(inputs=inputs, outputs=outputs)\n",
        "model.summary()"
      ],
      "execution_count": 7,
      "outputs": [
        {
          "output_type": "stream",
          "name": "stdout",
          "text": [
            "Model: \"model\"\n",
            "_________________________________________________________________\n",
            "Layer (type)                 Output Shape              Param #   \n",
            "=================================================================\n",
            "input_1 (InputLayer)         [(None, 28, 28, 1)]       0         \n",
            "_________________________________________________________________\n",
            "conv2d (Conv2D)              (None, 28, 28, 128)       1280      \n",
            "_________________________________________________________________\n",
            "batch_normalization (BatchNo (None, 28, 28, 128)       512       \n",
            "_________________________________________________________________\n",
            "activation (Activation)      (None, 28, 28, 128)       0         \n",
            "_________________________________________________________________\n",
            "conv2d_1 (Conv2D)            (None, 28, 28, 128)       147584    \n",
            "_________________________________________________________________\n",
            "max_pooling2d (MaxPooling2D) (None, 14, 14, 128)       0         \n",
            "_________________________________________________________________\n",
            "conv2d_2 (Conv2D)            (None, 14, 14, 128)       147584    \n",
            "_________________________________________________________________\n",
            "batch_normalization_1 (Batch (None, 14, 14, 128)       512       \n",
            "_________________________________________________________________\n",
            "activation_1 (Activation)    (None, 14, 14, 128)       0         \n",
            "_________________________________________________________________\n",
            "conv2d_3 (Conv2D)            (None, 14, 14, 64)        73792     \n",
            "_________________________________________________________________\n",
            "max_pooling2d_1 (MaxPooling2 (None, 7, 7, 64)          0         \n",
            "_________________________________________________________________\n",
            "flatten (Flatten)            (None, 3136)              0         \n",
            "_________________________________________________________________\n",
            "dense (Dense)                (None, 256)               803072    \n",
            "_________________________________________________________________\n",
            "batch_normalization_2 (Batch (None, 256)               1024      \n",
            "_________________________________________________________________\n",
            "dropout (Dropout)            (None, 256)               0         \n",
            "_________________________________________________________________\n",
            "dense_1 (Dense)              (None, 128)               32896     \n",
            "_________________________________________________________________\n",
            "batch_normalization_3 (Batch (None, 128)               512       \n",
            "_________________________________________________________________\n",
            "dropout_1 (Dropout)          (None, 128)               0         \n",
            "_________________________________________________________________\n",
            "dense_2 (Dense)              (None, 64)                8256      \n",
            "_________________________________________________________________\n",
            "batch_normalization_4 (Batch (None, 64)                256       \n",
            "_________________________________________________________________\n",
            "dropout_2 (Dropout)          (None, 64)                0         \n",
            "_________________________________________________________________\n",
            "dense_3 (Dense)              (None, 10)                650       \n",
            "=================================================================\n",
            "Total params: 1,217,930\n",
            "Trainable params: 1,216,522\n",
            "Non-trainable params: 1,408\n",
            "_________________________________________________________________\n"
          ]
        }
      ]
    },
    {
      "cell_type": "code",
      "metadata": {
        "colab": {
          "base_uri": "https://localhost:8080/"
        },
        "id": "MqkQ72d1hBIS",
        "outputId": "f9c143ae-3235-47a1-caaf-dee52bd9697f"
      },
      "source": [
        "def scheduler(epoch, lr):\n",
        "  if epoch < 8:\n",
        "    return lr\n",
        "  else:\n",
        "    return lr * tf.math.exp(-0.1)\n",
        "\n",
        "callback = [\n",
        "            tf.keras.callbacks.LearningRateScheduler(scheduler),\n",
        "            tf.keras.callbacks.EarlyStopping(monitor='val_loss', patience=5)\n",
        "]\n",
        "\n",
        "model.compile(optimizer='adam', loss=\"categorical_crossentropy\", metrics=[\"accuracy\"])\n",
        "history = model.fit(X_train, y_train, batch_size=256, epochs=20, callbacks = callback, validation_data=(X_val, y_val), verbose=1)"
      ],
      "execution_count": 8,
      "outputs": [
        {
          "output_type": "stream",
          "name": "stdout",
          "text": [
            "Epoch 1/20\n",
            "188/188 [==============================] - 54s 115ms/step - loss: 0.3551 - accuracy: 0.8975 - val_loss: 6.9666 - val_accuracy: 0.1101\n",
            "Epoch 2/20\n",
            "188/188 [==============================] - 20s 105ms/step - loss: 0.0839 - accuracy: 0.9767 - val_loss: 3.4366 - val_accuracy: 0.1840\n",
            "Epoch 3/20\n",
            "188/188 [==============================] - 20s 106ms/step - loss: 0.0582 - accuracy: 0.9841 - val_loss: 0.0826 - val_accuracy: 0.9749\n",
            "Epoch 4/20\n",
            "188/188 [==============================] - 21s 113ms/step - loss: 0.0449 - accuracy: 0.9869 - val_loss: 0.0363 - val_accuracy: 0.9901\n",
            "Epoch 5/20\n",
            "188/188 [==============================] - 20s 107ms/step - loss: 0.0392 - accuracy: 0.9882 - val_loss: 0.0462 - val_accuracy: 0.9878\n",
            "Epoch 6/20\n",
            "188/188 [==============================] - 20s 107ms/step - loss: 0.0302 - accuracy: 0.9914 - val_loss: 0.0516 - val_accuracy: 0.9838\n",
            "Epoch 7/20\n",
            "188/188 [==============================] - 20s 108ms/step - loss: 0.0279 - accuracy: 0.9915 - val_loss: 0.0273 - val_accuracy: 0.9927\n",
            "Epoch 8/20\n",
            "188/188 [==============================] - 20s 107ms/step - loss: 0.0241 - accuracy: 0.9926 - val_loss: 0.0381 - val_accuracy: 0.9893\n",
            "Epoch 9/20\n",
            "188/188 [==============================] - 20s 107ms/step - loss: 0.0203 - accuracy: 0.9942 - val_loss: 0.1021 - val_accuracy: 0.9728\n",
            "Epoch 10/20\n",
            "188/188 [==============================] - 20s 107ms/step - loss: 0.0165 - accuracy: 0.9945 - val_loss: 0.0488 - val_accuracy: 0.9883\n",
            "Epoch 11/20\n",
            "188/188 [==============================] - 20s 107ms/step - loss: 0.0133 - accuracy: 0.9961 - val_loss: 0.0306 - val_accuracy: 0.9923\n",
            "Epoch 12/20\n",
            "188/188 [==============================] - 20s 107ms/step - loss: 0.0115 - accuracy: 0.9964 - val_loss: 0.0328 - val_accuracy: 0.9919\n"
          ]
        }
      ]
    },
    {
      "cell_type": "code",
      "metadata": {
        "id": "yPRsfabXhBIS",
        "colab": {
          "base_uri": "https://localhost:8080/"
        },
        "outputId": "8ed6e26c-99af-440e-ac5e-1d50c8591364"
      },
      "source": [
        "model.evaluate(X_test, y_test, batch_size=256)"
      ],
      "execution_count": 9,
      "outputs": [
        {
          "output_type": "stream",
          "name": "stdout",
          "text": [
            "40/40 [==============================] - 2s 37ms/step - loss: 0.0234 - accuracy: 0.9943\n"
          ]
        },
        {
          "output_type": "execute_result",
          "data": {
            "text/plain": [
              "[0.02337127923965454, 0.9943000078201294]"
            ]
          },
          "metadata": {},
          "execution_count": 9
        }
      ]
    },
    {
      "cell_type": "code",
      "metadata": {
        "id": "mZ49DBA3hBIT"
      },
      "source": [
        "def acc_loss_plot(hist):\n",
        "    \n",
        "    fit, loss_ax = plt.subplots()\n",
        "    acc_ax = loss_ax.twinx()\n",
        "    \n",
        "    loss_ax.plot(hist.history[\"loss\"], \"y\", label=\"train_loss\")\n",
        "    loss_ax.plot(hist.history[\"val_loss\"], \"r\", label=\"val_loss\")\n",
        "    loss_ax.set_xlabel(\"Epoch\")\n",
        "    loss_ax.set_ylabel(\"Loss\")\n",
        "    loss_ax.legend(loc = \"upper left\")\n",
        "    \n",
        "    acc_ax.plot(hist.history[\"accuracy\"], \"b\", label=\"train_acc\")\n",
        "    acc_ax.plot(hist.history[\"val_accuracy\"], \"g\", label=\"val_acc\")\n",
        "    acc_ax.set_ylabel(\"Accuracy\")\n",
        "    acc_ax.legend(loc = \"upper right\")\n",
        "    \n",
        "    plt.show()"
      ],
      "execution_count": 10,
      "outputs": []
    },
    {
      "cell_type": "code",
      "metadata": {
        "id": "qVs8gpOZhBIT",
        "colab": {
          "base_uri": "https://localhost:8080/",
          "height": 279
        },
        "outputId": "c9b6b845-454a-4fae-a0a5-264cae04424e"
      },
      "source": [
        "acc_loss_plot(history)"
      ],
      "execution_count": 11,
      "outputs": [
        {
          "output_type": "display_data",
          "data": {
            "image/png": "[encoded data removed]",
            "text/plain": [
              "<Figure size 432x288 with 2 Axes>"
            ]
          },
          "metadata": {
            "needs_background": "light"
          }
        }
      ]
    },
    {
      "cell_type": "code",
      "metadata": {
        "id": "kFD0TsyM9t24"
      },
      "source": [
        ""
      ],
      "execution_count": 11,
      "outputs": []
    }
  ]
}