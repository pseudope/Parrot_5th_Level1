{
  "nbformat": 4,
  "nbformat_minor": 0,
  "metadata": {
    "colab": {
      "name": "MNIST_Week2_Day2_5(swish)",
      "provenance": [],
      "collapsed_sections": [],
      "include_colab_link": true
    },
    "kernelspec": {
      "name": "python3",
      "display_name": "Python 3"
    },
    "language_info": {
      "name": "python"
    },
    "accelerator": "GPU"
  },
  "cells": [
    {
      "cell_type": "markdown",
      "metadata": {
        "id": "view-in-github",
        "colab_type": "text"
      },
      "source": [
        "<a href=\"https://colab.research.google.com/github/pseudope/Parrot_5th_Level1/blob/main/MNIST_Week2_Day2_5(swish).ipynb\" target=\"_parent\"><img src=\"https://colab.research.google.com/assets/colab-badge.svg\" alt=\"Open In Colab\"/></a>"
      ]
    },
    {
      "cell_type": "code",
      "metadata": {
        "colab": {
          "base_uri": "https://localhost:8080/"
        },
        "id": "qWz40uYohBIN",
        "outputId": "ef24c0f8-93a6-4318-cc69-37b3f8cb0591"
      },
      "source": [
        "#!/usr/bin/env python3\n",
        "!pip install einops\n",
        "#!pip install tensorflow --user\n",
        "\n",
        "import numpy as np\n",
        "import pandas as pd\n",
        "import tensorflow as tf\n",
        "import matplotlib.pyplot as plt\n",
        "import os\n",
        "\n",
        "from tensorflow.data import Dataset\n",
        "from tensorflow.keras.models import Model\n",
        "from tensorflow.keras.utils import to_categorical\n",
        "from tensorflow.keras.optimizers import Adam, RMSprop\n",
        "from tensorflow.keras.layers import Input, Dense, Conv2D, Dropout, Flatten, Activation, MaxPooling2D, BatchNormalization\n",
        "\n",
        "from einops import rearrange\n",
        "from sklearn.model_selection import train_test_split"
      ],
      "execution_count": 1,
      "outputs": [
        {
          "output_type": "stream",
          "name": "stdout",
          "text": [
            "Collecting einops\n",
            "  Downloading einops-0.3.2-py3-none-any.whl (25 kB)\n",
            "Installing collected packages: einops\n",
            "Successfully installed einops-0.3.2\n"
          ]
        }
      ]
    },
    {
      "cell_type": "code",
      "metadata": {
        "colab": {
          "base_uri": "https://localhost:8080/"
        },
        "id": "S3WNN5P4hBIO",
        "outputId": "4733e4dc-4df9-4aa4-a050-d3e11e050b94"
      },
      "source": [
        "(X_train, y_train), (X_test, y_test) = tf.keras.datasets.mnist.load_data()\n",
        "\n",
        "print(\"X_train shape: {}\".format(X_train.shape))\n",
        "print(\"X_test shape: {}\".format(X_test.shape))"
      ],
      "execution_count": 2,
      "outputs": [
        {
          "output_type": "stream",
          "name": "stdout",
          "text": [
            "Downloading data from https://storage.googleapis.com/tensorflow/tf-keras-datasets/mnist.npz\n",
            "11493376/11490434 [==============================] - 0s 0us/step\n",
            "11501568/11490434 [==============================] - 0s 0us/step\n",
            "X_train shape: (60000, 28, 28)\n",
            "X_test shape: (10000, 28, 28)\n"
          ]
        }
      ]
    },
    {
      "cell_type": "code",
      "metadata": {
        "colab": {
          "base_uri": "https://localhost:8080/",
          "height": 35
        },
        "id": "ao4tkmzgMD1y",
        "outputId": "4cf00c96-f16b-40c0-e978-0a2e92bf8ed8"
      },
      "source": [
        "pwd"
      ],
      "execution_count": 3,
      "outputs": [
        {
          "output_type": "execute_result",
          "data": {
            "application/vnd.google.colaboratory.intrinsic+json": {
              "type": "string"
            },
            "text/plain": [
              "'/content'"
            ]
          },
          "metadata": {},
          "execution_count": 3
        }
      ]
    },
    {
      "cell_type": "code",
      "metadata": {
        "colab": {
          "base_uri": "https://localhost:8080/",
          "height": 657
        },
        "id": "KB832lechBIP",
        "outputId": "6c3c3679-6bd5-4179-85ee-3dc8edbb426d"
      },
      "source": [
        "fig = plt.figure(figsize=(9, 9))\n",
        "\n",
        "for i in range(9):\n",
        "    plt.subplot(3, 3, 1 + i)\n",
        "    plt.tight_layout()\n",
        "    plt.imshow(X_train[i], cmap=\"gray\", interpolation=\"none\")\n",
        "    target = y_train[i]\n",
        "    plt.title(\"Ground Truth: {}\".format(int(target)))\n",
        "\n",
        "plt.show()"
      ],
      "execution_count": 4,
      "outputs": [
        {
          "output_type": "display_data",
          "data": {
            "image/png": "[encoded data removed]",
            "text/plain": [
              "<Figure size 648x648 with 9 Axes>"
            ]
          },
          "metadata": {
            "needs_background": "light"
          }
        }
      ]
    },
    {
      "cell_type": "code",
      "metadata": {
        "id": "Nq1waxKDhBIP"
      },
      "source": [
        "target_size = 10   # 0 ~ 9, 총 9개\n",
        "\n",
        "### 주의: 흑백 데이터여도 channel 차원을 살려주어야 정상적으로 작동합니다\n",
        "X_train = rearrange(X_train, \"b h w -> b h w 1\")\n",
        "X_test = rearrange(X_test, \"b h w -> b h w 1\")\n",
        "\n",
        "X_train = X_train.astype(\"float32\") / (2 ** 8 - 1)   # 255로 scaling\n",
        "X_test = X_test.astype(\"float32\") / (2 ** 8 - 1)     # 255로 scaling\n",
        "\n",
        "y_train = to_categorical(y_train, target_size)       # 타겟을 정수로 변환\n",
        "y_test = to_categorical(y_test, target_size)         # 타겟을 정수로 변환"
      ],
      "execution_count": 5,
      "outputs": []
    },
    {
      "cell_type": "code",
      "metadata": {
        "id": "7xA3xa64hBIP"
      },
      "source": [
        "X_train, X_val, y_train, y_val = train_test_split(X_train, y_train, test_size=0.2)"
      ],
      "execution_count": 6,
      "outputs": []
    },
    {
      "cell_type": "code",
      "metadata": {
        "colab": {
          "base_uri": "https://localhost:8080/"
        },
        "id": "SyT8hqophBIQ",
        "outputId": "282c246c-cddb-444b-c03c-befa74d8fd3c"
      },
      "source": [
        "print(X_train.shape)\n",
        "print(X_val.shape)\n",
        "print(X_test.shape)\n",
        "print(y_train.shape)\n",
        "print(y_val.shape)\n",
        "print(y_test.shape)"
      ],
      "execution_count": 7,
      "outputs": [
        {
          "output_type": "stream",
          "name": "stdout",
          "text": [
            "(48000, 28, 28, 1)\n",
            "(12000, 28, 28, 1)\n",
            "(10000, 28, 28, 1)\n",
            "(48000, 10)\n",
            "(12000, 10)\n",
            "(10000, 10)\n"
          ]
        }
      ]
    },
    {
      "cell_type": "markdown",
      "metadata": {
        "id": "paFz-UgbR85m"
      },
      "source": [
        "Changes Made:\n",
        "*   All activation functions changed to \"swish\"\n",
        "*   \n",
        "\n",
        "0.9950 -> 0.9949(first try) ->0.9954(second try)\n",
        "\n",
        "\n",
        "\n",
        "\n",
        "\n",
        "\n",
        "\n",
        "\n",
        "\n",
        "\n",
        "\n",
        "\n"
      ]
    },
    {
      "cell_type": "code",
      "metadata": {
        "colab": {
          "base_uri": "https://localhost:8080/"
        },
        "id": "haTxYAXahBIQ",
        "outputId": "2fff04c2-5cef-4d5d-ba92-213de3be402c"
      },
      "source": [
        "inputs = Input(shape=(28, 28, 1))\n",
        "\n",
        "X = Conv2D(filters=128, kernel_size=(3, 3), padding=\"Same\", kernel_initializer='he_uniform')(inputs)\n",
        "X = BatchNormalization()(X)\n",
        "X = Activation(\"swish\")(X)\n",
        "X = Conv2D(filters=128, kernel_size=(3, 3), padding=\"Same\", kernel_initializer='he_uniform')(X)\n",
        "X = Activation(\"swish\")(X)\n",
        "X = MaxPooling2D(pool_size=(2, 2), strides=(2, 2))(X)\n",
        "\n",
        "X = Conv2D(filters=128, kernel_size=(3, 3), padding=\"Same\", kernel_initializer='he_uniform')(X)\n",
        "X = BatchNormalization()(X)\n",
        "X = Activation(\"swish\")(X)\n",
        "X = Conv2D(filters=64, kernel_size=(3, 3), padding=\"Same\", kernel_initializer='he_uniform')(X)\n",
        "X = Activation(\"swish\")(X)\n",
        "X = MaxPooling2D(pool_size=(2, 2), strides=(2, 2))(X)\n",
        "\n",
        "X = Flatten()(X)\n",
        "X = Dense(256, activation=\"swish\")(X)\n",
        "X = BatchNormalization()(X)\n",
        "X = Dropout(0.5)(X)\n",
        "X = Dense(128, activation=\"swish\")(X)\n",
        "X = BatchNormalization()(X)\n",
        "X = Dropout(0.4)(X)\n",
        "X = Dense(64, activation=\"swish\")(X)\n",
        "X = BatchNormalization()(X)\n",
        "X = Dropout(0.2)(X)\n",
        "outputs = Dense(10, activation=\"softmax\")(X)\n",
        "\n",
        "model = Model(inputs=inputs, outputs=outputs)\n",
        "model.summary()"
      ],
      "execution_count": 8,
      "outputs": [
        {
          "output_type": "stream",
          "name": "stdout",
          "text": [
            "Model: \"model\"\n",
            "_________________________________________________________________\n",
            " Layer (type)                Output Shape              Param #   \n",
            "=================================================================\n",
            " input_1 (InputLayer)        [(None, 28, 28, 1)]       0         \n",
            "                                                                 \n",
            " conv2d (Conv2D)             (None, 28, 28, 128)       1280      \n",
            "                                                                 \n",
            " batch_normalization (BatchN  (None, 28, 28, 128)      512       \n",
            " ormalization)                                                   \n",
            "                                                                 \n",
            " activation (Activation)     (None, 28, 28, 128)       0         \n",
            "                                                                 \n",
            " conv2d_1 (Conv2D)           (None, 28, 28, 128)       147584    \n",
            "                                                                 \n",
            " activation_1 (Activation)   (None, 28, 28, 128)       0         \n",
            "                                                                 \n",
            " max_pooling2d (MaxPooling2D  (None, 14, 14, 128)      0         \n",
            " )                                                               \n",
            "                                                                 \n",
            " conv2d_2 (Conv2D)           (None, 14, 14, 128)       147584    \n",
            "                                                                 \n",
            " batch_normalization_1 (Batc  (None, 14, 14, 128)      512       \n",
            " hNormalization)                                                 \n",
            "                                                                 \n",
            " activation_2 (Activation)   (None, 14, 14, 128)       0         \n",
            "                                                                 \n",
            " conv2d_3 (Conv2D)           (None, 14, 14, 64)        73792     \n",
            "                                                                 \n",
            " activation_3 (Activation)   (None, 14, 14, 64)        0         \n",
            "                                                                 \n",
            " max_pooling2d_1 (MaxPooling  (None, 7, 7, 64)         0         \n",
            " 2D)                                                             \n",
            "                                                                 \n",
            " flatten (Flatten)           (None, 3136)              0         \n",
            "                                                                 \n",
            " dense (Dense)               (None, 256)               803072    \n",
            "                                                                 \n",
            " batch_normalization_2 (Batc  (None, 256)              1024      \n",
            " hNormalization)                                                 \n",
            "                                                                 \n",
            " dropout (Dropout)           (None, 256)               0         \n",
            "                                                                 \n",
            " dense_1 (Dense)             (None, 128)               32896     \n",
            "                                                                 \n",
            " batch_normalization_3 (Batc  (None, 128)              512       \n",
            " hNormalization)                                                 \n",
            "                                                                 \n",
            " dropout_1 (Dropout)         (None, 128)               0         \n",
            "                                                                 \n",
            " dense_2 (Dense)             (None, 64)                8256      \n",
            "                                                                 \n",
            " batch_normalization_4 (Batc  (None, 64)               256       \n",
            " hNormalization)                                                 \n",
            "                                                                 \n",
            " dropout_2 (Dropout)         (None, 64)                0         \n",
            "                                                                 \n",
            " dense_3 (Dense)             (None, 10)                650       \n",
            "                                                                 \n",
            "=================================================================\n",
            "Total params: 1,217,930\n",
            "Trainable params: 1,216,522\n",
            "Non-trainable params: 1,408\n",
            "_________________________________________________________________\n"
          ]
        }
      ]
    },
    {
      "cell_type": "code",
      "metadata": {
        "colab": {
          "base_uri": "https://localhost:8080/"
        },
        "id": "MqkQ72d1hBIS",
        "outputId": "6b33ce84-7f3a-452e-af68-57a354e8c61a"
      },
      "source": [
        "def scheduler(epoch, lr):\n",
        "  if epoch < 8:\n",
        "    return lr\n",
        "  else:\n",
        "    return lr * tf.math.exp(-0.1)\n",
        "\n",
        "checkpoint_filepath = '/tmp/checkpoint'\n",
        "\n",
        "\n",
        "callback = [\n",
        "            tf.keras.callbacks.LearningRateScheduler(scheduler),\n",
        "            tf.keras.callbacks.EarlyStopping(monitor='val_loss', patience=7),\n",
        "            tf.keras.callbacks.ModelCheckpoint(filepath=checkpoint_filepath,\n",
        "                                               monitor=\"val_loss\", \n",
        "                                               mode=\"min\",\n",
        "                                               save_best_only=True)\n",
        "]\n",
        "\n",
        "model.compile(optimizer='adam', loss=\"categorical_crossentropy\", metrics=[\"accuracy\"])\n",
        "history = model.fit(X_train, y_train, batch_size=256, epochs=20, callbacks = callback, validation_data=(X_val, y_val), verbose=1)\n",
        "model.load_weights(checkpoint_filepath)"
      ],
      "execution_count": 9,
      "outputs": [
        {
          "output_type": "stream",
          "name": "stdout",
          "text": [
            "Epoch 1/20\n",
            "188/188 [==============================] - ETA: 0s - loss: 0.2829 - accuracy: 0.9208INFO:tensorflow:Assets written to: /tmp/checkpoint/assets\n",
            "188/188 [==============================] - 65s 176ms/step - loss: 0.2829 - accuracy: 0.9208 - val_loss: 0.1357 - val_accuracy: 0.9613 - lr: 0.0010\n",
            "Epoch 2/20\n",
            "188/188 [==============================] - ETA: 0s - loss: 0.0705 - accuracy: 0.9806INFO:tensorflow:Assets written to: /tmp/checkpoint/assets\n",
            "188/188 [==============================] - 32s 169ms/step - loss: 0.0705 - accuracy: 0.9806 - val_loss: 0.0702 - val_accuracy: 0.9797 - lr: 0.0010\n",
            "Epoch 3/20\n",
            "188/188 [==============================] - ETA: 0s - loss: 0.0457 - accuracy: 0.9874INFO:tensorflow:Assets written to: /tmp/checkpoint/assets\n",
            "188/188 [==============================] - 32s 171ms/step - loss: 0.0457 - accuracy: 0.9874 - val_loss: 0.0401 - val_accuracy: 0.9883 - lr: 0.0010\n",
            "Epoch 4/20\n",
            "188/188 [==============================] - 27s 145ms/step - loss: 0.0343 - accuracy: 0.9901 - val_loss: 0.0502 - val_accuracy: 0.9868 - lr: 0.0010\n",
            "Epoch 5/20\n",
            "188/188 [==============================] - ETA: 0s - loss: 0.0304 - accuracy: 0.9915INFO:tensorflow:Assets written to: /tmp/checkpoint/assets\n",
            "188/188 [==============================] - 31s 167ms/step - loss: 0.0304 - accuracy: 0.9915 - val_loss: 0.0369 - val_accuracy: 0.9893 - lr: 0.0010\n",
            "Epoch 6/20\n",
            "188/188 [==============================] - 27s 142ms/step - loss: 0.0271 - accuracy: 0.9923 - val_loss: 0.0413 - val_accuracy: 0.9894 - lr: 0.0010\n",
            "Epoch 7/20\n",
            "188/188 [==============================] - 27s 142ms/step - loss: 0.0203 - accuracy: 0.9939 - val_loss: 0.0418 - val_accuracy: 0.9897 - lr: 0.0010\n",
            "Epoch 8/20\n",
            "188/188 [==============================] - ETA: 0s - loss: 0.0173 - accuracy: 0.9947INFO:tensorflow:Assets written to: /tmp/checkpoint/assets\n",
            "188/188 [==============================] - 32s 168ms/step - loss: 0.0173 - accuracy: 0.9947 - val_loss: 0.0334 - val_accuracy: 0.9917 - lr: 0.0010\n",
            "Epoch 9/20\n",
            "188/188 [==============================] - 27s 142ms/step - loss: 0.0146 - accuracy: 0.9956 - val_loss: 0.0412 - val_accuracy: 0.9910 - lr: 9.0484e-04\n",
            "Epoch 10/20\n",
            "188/188 [==============================] - 27s 142ms/step - loss: 0.0128 - accuracy: 0.9964 - val_loss: 0.0474 - val_accuracy: 0.9898 - lr: 8.1873e-04\n",
            "Epoch 11/20\n",
            "188/188 [==============================] - 27s 142ms/step - loss: 0.0096 - accuracy: 0.9972 - val_loss: 0.0336 - val_accuracy: 0.9927 - lr: 7.4082e-04\n",
            "Epoch 12/20\n",
            "188/188 [==============================] - 27s 142ms/step - loss: 0.0073 - accuracy: 0.9978 - val_loss: 0.0360 - val_accuracy: 0.9923 - lr: 6.7032e-04\n",
            "Epoch 13/20\n",
            "188/188 [==============================] - ETA: 0s - loss: 0.0065 - accuracy: 0.9983INFO:tensorflow:Assets written to: /tmp/checkpoint/assets\n",
            "188/188 [==============================] - 32s 169ms/step - loss: 0.0065 - accuracy: 0.9983 - val_loss: 0.0316 - val_accuracy: 0.9930 - lr: 6.0653e-04\n",
            "Epoch 14/20\n",
            "188/188 [==============================] - ETA: 0s - loss: 0.0039 - accuracy: 0.9990INFO:tensorflow:Assets written to: /tmp/checkpoint/assets\n",
            "188/188 [==============================] - 32s 168ms/step - loss: 0.0039 - accuracy: 0.9990 - val_loss: 0.0309 - val_accuracy: 0.9934 - lr: 5.4881e-04\n",
            "Epoch 15/20\n",
            "188/188 [==============================] - ETA: 0s - loss: 0.0037 - accuracy: 0.9990INFO:tensorflow:Assets written to: /tmp/checkpoint/assets\n",
            "188/188 [==============================] - 32s 169ms/step - loss: 0.0037 - accuracy: 0.9990 - val_loss: 0.0293 - val_accuracy: 0.9937 - lr: 4.9659e-04\n",
            "Epoch 16/20\n",
            "188/188 [==============================] - 27s 142ms/step - loss: 0.0027 - accuracy: 0.9993 - val_loss: 0.0322 - val_accuracy: 0.9937 - lr: 4.4933e-04\n",
            "Epoch 17/20\n",
            "188/188 [==============================] - 27s 142ms/step - loss: 0.0025 - accuracy: 0.9993 - val_loss: 0.0372 - val_accuracy: 0.9923 - lr: 4.0657e-04\n",
            "Epoch 18/20\n",
            "188/188 [==============================] - 27s 142ms/step - loss: 0.0031 - accuracy: 0.9992 - val_loss: 0.0353 - val_accuracy: 0.9929 - lr: 3.6788e-04\n",
            "Epoch 19/20\n",
            "188/188 [==============================] - 27s 142ms/step - loss: 0.0032 - accuracy: 0.9991 - val_loss: 0.0329 - val_accuracy: 0.9936 - lr: 3.3287e-04\n",
            "Epoch 20/20\n",
            "188/188 [==============================] - 27s 142ms/step - loss: 0.0018 - accuracy: 0.9994 - val_loss: 0.0340 - val_accuracy: 0.9938 - lr: 3.0119e-04\n"
          ]
        },
        {
          "output_type": "execute_result",
          "data": {
            "text/plain": [
              "<tensorflow.python.training.tracking.util.CheckpointLoadStatus at 0x7fc4b75ac350>"
            ]
          },
          "metadata": {},
          "execution_count": 9
        }
      ]
    },
    {
      "cell_type": "code",
      "metadata": {
        "id": "yPRsfabXhBIS",
        "colab": {
          "base_uri": "https://localhost:8080/"
        },
        "outputId": "0c60d0d6-56cc-4710-df24-e411d0fc3fab"
      },
      "source": [
        "model.evaluate(X_test, y_test, batch_size=256)"
      ],
      "execution_count": 10,
      "outputs": [
        {
          "output_type": "stream",
          "name": "stdout",
          "text": [
            "40/40 [==============================] - 2s 46ms/step - loss: 0.0188 - accuracy: 0.9954\n"
          ]
        },
        {
          "output_type": "execute_result",
          "data": {
            "text/plain": [
              "[0.018787024542689323, 0.9954000115394592]"
            ]
          },
          "metadata": {},
          "execution_count": 10
        }
      ]
    },
    {
      "cell_type": "code",
      "metadata": {
        "id": "mZ49DBA3hBIT"
      },
      "source": [
        "def acc_loss_plot(hist):\n",
        "    \n",
        "    fit, loss_ax = plt.subplots()\n",
        "    acc_ax = loss_ax.twinx()\n",
        "    \n",
        "    loss_ax.plot(hist.history[\"loss\"], \"y\", label=\"train_loss\")\n",
        "    loss_ax.plot(hist.history[\"val_loss\"], \"r\", label=\"val_loss\")\n",
        "    loss_ax.set_xlabel(\"Epoch\")\n",
        "    loss_ax.set_ylabel(\"Loss\")\n",
        "    loss_ax.legend(loc = \"upper left\")\n",
        "    \n",
        "    acc_ax.plot(hist.history[\"accuracy\"], \"b\", label=\"train_acc\")\n",
        "    acc_ax.plot(hist.history[\"val_accuracy\"], \"g\", label=\"val_acc\")\n",
        "    acc_ax.set_ylabel(\"Accuracy\")\n",
        "    acc_ax.legend(loc = \"upper right\")\n",
        "    \n",
        "    plt.show()"
      ],
      "execution_count": 11,
      "outputs": []
    },
    {
      "cell_type": "code",
      "metadata": {
        "id": "qVs8gpOZhBIT",
        "colab": {
          "base_uri": "https://localhost:8080/",
          "height": 279
        },
        "outputId": "01760159-5992-4f82-e9b5-0163cabed1cb"
      },
      "source": [
        "acc_loss_plot(history)"
      ],
      "execution_count": 12,
      "outputs": [
        {
          "output_type": "display_data",
          "data": {
            "image/png": "[encoded data removed]",
            "text/plain": [
              "<Figure size 432x288 with 2 Axes>"
            ]
          },
          "metadata": {
            "needs_background": "light"
          }
        }
      ]
    },
    {
      "cell_type": "code",
      "metadata": {
        "id": "kFD0TsyM9t24"
      },
      "source": [
        ""
      ],
      "execution_count": 12,
      "outputs": []
    }
  ]
}